{
 "cells": [
  {
   "cell_type": "markdown",
   "metadata": {},
   "source": [
    "# Install packages"
   ]
  },
  {
   "cell_type": "code",
   "execution_count": 11,
   "metadata": {},
   "outputs": [],
   "source": [
    "#pip install lightfm"
   ]
  },
  {
   "cell_type": "code",
   "execution_count": 10,
   "metadata": {},
   "outputs": [],
   "source": [
    "#pip install distributed"
   ]
  },
  {
   "cell_type": "code",
   "execution_count": 12,
   "metadata": {},
   "outputs": [],
   "source": [
    "#pip install pyspark"
   ]
  },
  {
   "cell_type": "code",
   "execution_count": 13,
   "metadata": {},
   "outputs": [],
   "source": [
    "#pip install dask"
   ]
  },
  {
   "cell_type": "code",
   "execution_count": 16,
   "metadata": {},
   "outputs": [],
   "source": [
    "#pip install dask_jobqueue"
   ]
  },
  {
   "cell_type": "markdown",
   "metadata": {},
   "source": [
    "# Package and environment setup"
   ]
  },
  {
   "cell_type": "code",
   "execution_count": 1,
   "metadata": {},
   "outputs": [],
   "source": [
    "import os\n",
    "import sqlite3\n",
    "import pandas as pd\n",
    "import numpy as np\n",
    "from pyspark.sql import functions as F\n",
    "from pyspark.sql.types import IntegerType\n",
    "import datetime\n",
    "from time import time\n",
    "from pyspark.sql import SparkSession"
   ]
  },
  {
   "cell_type": "code",
   "execution_count": 2,
   "metadata": {},
   "outputs": [],
   "source": [
    "import dask\n",
    "import dask.bag as db\n",
    "import dask.dataframe as dd\n",
    "from distributed import Client\n",
    "from dask_jobqueue import SLURMCluster"
   ]
  },
  {
   "cell_type": "code",
   "execution_count": 3,
   "metadata": {},
   "outputs": [],
   "source": [
    "import lightfm\n",
    "from lightfm.data import Dataset\n",
    "from lightfm import LightFM\n",
    "from lightfm.evaluation import precision_at_k\n",
    "from itertools import islice\n",
    "from collections import Counter\n",
    "from scipy.sparse import csr_matrix"
   ]
  },
  {
   "cell_type": "code",
   "execution_count": 4,
   "metadata": {},
   "outputs": [
    {
     "data": {
      "text/html": [
       "<table style=\"border: 2px solid white;\">\n",
       "<tr>\n",
       "<td style=\"vertical-align: top; border: 0px solid white\">\n",
       "<h3 style=\"text-align: left;\">Client</h3>\n",
       "<ul style=\"text-align: left; list-style: none; margin: 0; padding: 0;\">\n",
       "  <li><b>Scheduler: </b>tcp://127.0.0.1:35475</li>\n",
       "  <li><b>Dashboard: </b><a href='http://127.0.0.1:8787/status' target='_blank'>http://127.0.0.1:8787/status</a></li>\n",
       "</ul>\n",
       "</td>\n",
       "<td style=\"vertical-align: top; border: 0px solid white\">\n",
       "<h3 style=\"text-align: left;\">Cluster</h3>\n",
       "<ul style=\"text-align: left; list-style:none; margin: 0; padding: 0;\">\n",
       "  <li><b>Workers: </b>1</li>\n",
       "  <li><b>Cores: </b>1</li>\n",
       "  <li><b>Memory: </b>8.00 GiB</li>\n",
       "</ul>\n",
       "</td>\n",
       "</tr>\n",
       "</table>"
      ],
      "text/plain": [
       "<Client: 'tcp://127.0.0.1:35475' processes=1 threads=1, memory=8.00 GiB>"
      ]
     },
     "metadata": {},
     "output_type": "display_data"
    }
   ],
   "source": [
    "# Set LOCAL to True for single-machine execution while developing\n",
    "# Set LOCAL to False for cluster execution\n",
    "LOCAL = True\n",
    "\n",
    "if LOCAL:\n",
    "    # This line creates a single-machine dask client\n",
    "    client = Client()\n",
    "else:    \n",
    "    # This line creates a SLURM cluster dask and dask client\n",
    "    # Logging outputs will be stored in /scratch/{your-netid}\n",
    "    \n",
    "    cluster = SLURMCluster(memory='4GB', cores=2, python='/scratch/work/public/dask/bin/python', \n",
    "                               local_directory='/tmp/{}/'.format(os.environ['SLURM_JOB_USER']),\n",
    "                               job_extra=['--output=/scratch/{}/slurm-%j.out'.format(os.environ['SLURM_JOB_USER'])])\n",
    "\n",
    "    cluster.submit_command = 'slurm'\n",
    "    cluster.scale(100)\n",
    "\n",
    "    display(cluster)\n",
    "    client = Client(cluster)\n",
    "\n",
    "display(client)"
   ]
  },
  {
   "cell_type": "code",
   "execution_count": 5,
   "metadata": {},
   "outputs": [],
   "source": [
    "# Setup and configure spark session\n",
    "spark = SparkSession.builder \\\n",
    "  .master(\"local\") \\\n",
    "  .appName(\"parquet_example\") \\\n",
    "  .config('spark.sql.execution.arrow.pyspark.enabled', True) \\\n",
    "  .config('spark.sql.session.timeZone', 'UTC') \\\n",
    "  .config('spark.driver.memory','32G') \\\n",
    "  .config('spark.ui.showConsoleProgress', True) \\\n",
    "  .config('spark.sql.repl.eagerEval.enabled', True) \\\n",
    "  .getOrCreate()\n",
    "\n",
    "# Enable Arrow-based columnar data\n",
    "spark.conf.set(\"spark.sql.execution.arrow.pyspark.enabled\", \"true\")"
   ]
  },
  {
   "cell_type": "markdown",
   "metadata": {},
   "source": [
    "# Import dataset"
   ]
  },
  {
   "cell_type": "code",
   "execution_count": 6,
   "metadata": {},
   "outputs": [],
   "source": [
    "# Read data from hdfs\n",
    "df_val = spark.read.parquet('/scratch/work/courses/DSGA1004-2021/MSD/cf_validation.parquet')\n",
    "df_test = spark.read.parquet('/scratch/work/courses/DSGA1004-2021/MSD/cf_test.parquet')\n",
    "df_train = spark.read.parquet('/scratch/work/courses/DSGA1004-2021/MSD/cf_train_new.parquet')"
   ]
  },
  {
   "cell_type": "markdown",
   "metadata": {},
   "source": [
    "# Data preprocessing: transform to interactions matrix"
   ]
  },
  {
   "cell_type": "code",
   "execution_count": 7,
   "metadata": {},
   "outputs": [],
   "source": [
    "def preprocessing(df_train, df_test):\n",
    "    \n",
    "    '''\n",
    "        Params:\n",
    "            df: dataframe which contains 'user_id','track_id','count' columns\n",
    "            \n",
    "        Return: \n",
    "            interactions: \n",
    "            weights: \n",
    "    '''\n",
    "    total_item_user = pd.concat([df_train, df_test])\n",
    "    \n",
    "    data_obj = Dataset()\n",
    "    data_obj.fit(users=total_item_user['user_id'].unique(), items=total_item_user['track_id'].unique())\n",
    "    \n",
    "    interactions_train, weights_train = data_obj.build_interactions([(df_train['user_id'][i], df_train['track_id'][i], \\\n",
    "                                                                      df_train['count'][i]) for i in range(df_train.shape[0])])\n",
    "    interactions_test, weights_test = data_obj.build_interactions([(df_test['user_id'][i], \\\n",
    "                                                          df_test['track_id'][i], df_test['count'][i]) for i in range(df_test.shape[0])])\n",
    "        \n",
    "    return interactions_train, weights_train, interactions_test, weights_test"
   ]
  },
  {
   "cell_type": "markdown",
   "metadata": {},
   "source": [
    "# Train LightFM"
   ]
  },
  {
   "cell_type": "code",
   "execution_count": 8,
   "metadata": {},
   "outputs": [],
   "source": [
    "def lightfm_train(train, rank, regParam, maxIter, model_type, weights):\n",
    "    \n",
    "    '''\n",
    "        Params:\n",
    "            train: training csr matrix in form of scipy.sparse.COOMatrix\n",
    "            rank: dimensionality of the feature latent embeddings\n",
    "            regParam: L2 penalty on user features\n",
    "            maxIter: number of epochs to run\n",
    "            model_type: 'warp' - Weighted Approximate-Rank Pairwise Loss \n",
    "                        'bpr' - Bayesian Personalised Ranking\n",
    "                         these 2 model types are proved to work for implicit feedback\n",
    "        Return: \n",
    "            model: lightfm model trained on training set\n",
    "            \n",
    "            return type: lightfm instance\n",
    "    '''\n",
    "    if model_type == 'bpr':\n",
    "        model = LightFM(loss='bpr', no_components=rank, user_alpha=regParam)\n",
    "        \n",
    "    else:    \n",
    "        model = LightFM(loss='warp', no_components=rank, user_alpha=regParam)\n",
    "\n",
    "    model = model.fit(interactions=train, sample_weight=weights, epochs=maxIter, verbose=False)\n",
    "    \n",
    "    return model"
   ]
  },
  {
   "cell_type": "code",
   "execution_count": 9,
   "metadata": {},
   "outputs": [],
   "source": [
    "def train_and_test(train, test, train_weights, rank, regParam, maxIter, top, model_type):\n",
    "    \n",
    "    '''\n",
    "        Params:\n",
    "            train: training csr matrix in form of scipy.sparse.COOMatrix\n",
    "            test: test csr matrix in form of scipy_sparse_COOMatrix\n",
    "            rank: dimensionality of the feature latent embeddings\n",
    "            regParam: L2 penalty on user features\n",
    "            maxIter: number of epochs to run\n",
    "            top: number of top recommendations to evaluate on\n",
    "            model_type: 'warp' - Weighted Approximate-Rank Pairwise Loss \n",
    "                        'bpr' - Bayesian Personalised Ranking\n",
    "            \n",
    "        Return: \n",
    "            p_at_k: precision at k\n",
    "            time: time for train and evaluation\n",
    "    '''\n",
    "    print('Model with maxIter = {}, reg = {}, rank = {} complete'.format(maxIter,regParam,rank))\n",
    "    st = time()\n",
    "    \n",
    "    model = lightfm_train(train, rank, regParam, maxIter, model_type, train_weights)\n",
    "\n",
    "    t = round(time()-st, 5)\n",
    "    print('Time used:', t)\n",
    "    \n",
    "    p_at_k = precision_at_k(model, test, k=top).mean()\n",
    "    print('Precision at K:', p_at_k)\n",
    "    \n",
    "    return p_at_k, t"
   ]
  },
  {
   "cell_type": "markdown",
   "metadata": {},
   "source": [
    "# Evaluate on validation set, maxIter = 1, regParam = 0.05, rank = 150"
   ]
  },
  {
   "cell_type": "code",
   "execution_count": 10,
   "metadata": {},
   "outputs": [],
   "source": [
    "percent_train = [0.001, 0.005, 0.01, 0.05, 0.1]"
   ]
  },
  {
   "cell_type": "code",
   "execution_count": 11,
   "metadata": {},
   "outputs": [
    {
     "name": "stdout",
     "output_type": "stream",
     "text": [
      "Model with 0.1% of training file size\n",
      "sample_train shape =  (49923, 3)\n",
      "Model with maxIter = 1, reg = 0.05, rank = 150 complete\n",
      "Time used: 0.66391\n",
      "Precision at K: 0.004702\n",
      "Model with 0.5% of training file size\n",
      "sample_train shape =  (248838, 3)\n",
      "Model with maxIter = 1, reg = 0.05, rank = 150 complete\n",
      "Time used: 3.08813\n",
      "Precision at K: 0.0049528\n",
      "Model with 1.0% of training file size\n",
      "sample_train shape =  (497832, 3)\n",
      "Model with maxIter = 1, reg = 0.05, rank = 150 complete\n",
      "Time used: 6.71991\n",
      "Precision at K: 0.0049806\n",
      "Model with 5.0% of training file size\n",
      "sample_train shape =  (2492065, 3)\n",
      "Model with maxIter = 1, reg = 0.05, rank = 150 complete\n",
      "Time used: 40.38718\n",
      "Precision at K: 0.0050526\n",
      "Model with 10.0% of training file size\n",
      "sample_train shape =  (4982921, 3)\n",
      "Model with maxIter = 1, reg = 0.05, rank = 150 complete\n",
      "Time used: 79.39929\n",
      "Precision at K: 0.0050692\n"
     ]
    }
   ],
   "source": [
    "for pct in percent_train:\n",
    "    print('Model with {}% of training file size'.format(100*pct))\n",
    "    sample_train = df_train.sample(False, pct).toPandas()\n",
    "    sample_train = sample_train.drop('__index_level_0__', axis = 1)\n",
    "    print('sample_train shape = ', sample_train.shape)\n",
    "    \n",
    "    if sample_train.isnull().values.any():\n",
    "        print('Check null values')\n",
    "    \n",
    "    sample_test = df_val.toPandas().drop('__index_level_0__', axis = 1)\n",
    "    interactions_train, weights_train, interactions_test, weights_test = preprocessing(sample_train, sample_test)\n",
    "    p_at_k, t = train_and_test(interactions_train, interactions_test, weights_train, rank=150, regParam=0.05, maxIter=1,\\\n",
    "                           top=500, model_type='warp')"
   ]
  },
  {
   "cell_type": "code",
   "execution_count": 12,
   "metadata": {},
   "outputs": [
    {
     "name": "stdout",
     "output_type": "stream",
     "text": [
      "Model with 15.0% of training file size\n",
      "sample_train shape =  (7471981, 3)\n",
      "Model with maxIter = 1, reg = 0.05, rank = 150 complete\n",
      "Time used: 113.05296\n",
      "Precision at K: 0.0050472\n"
     ]
    }
   ],
   "source": [
    "percent_train = [0.15]\n",
    "for pct in percent_train:\n",
    "    print('Model with {}% of training file size'.format(100*pct))\n",
    "    sample_train = df_train.sample(False, pct).toPandas()\n",
    "    sample_train = sample_train.drop('__index_level_0__', axis = 1)\n",
    "    print('sample_train shape = ', sample_train.shape)\n",
    "    \n",
    "    if sample_train.isnull().values.any():\n",
    "        print('Check null values')\n",
    "    \n",
    "    sample_test = df_val.toPandas().drop('__index_level_0__', axis = 1)\n",
    "    interactions_train, weights_train, interactions_test, weights_test = preprocessing(sample_train, sample_test)\n",
    "    p_at_k, t = train_and_test(interactions_train, interactions_test, weights_train, rank=150, regParam=0.05, maxIter=1,\\\n",
    "                           top=500, model_type='warp')"
   ]
  },
  {
   "cell_type": "code",
   "execution_count": 10,
   "metadata": {},
   "outputs": [
    {
     "name": "stdout",
     "output_type": "stream",
     "text": [
      "Model with 20.0% of training file size\n",
      "sample_train shape =  (9963586, 3)\n",
      "Model with maxIter = 1, reg = 0.05, rank = 150 complete\n",
      "Time used: 147.02114\n",
      "Precision at K: 0.0050498\n"
     ]
    }
   ],
   "source": [
    "percent_train = [0.2]\n",
    "for pct in percent_train:\n",
    "    print('Model with {}% of training file size'.format(100*pct))\n",
    "    sample_train = df_train.sample(False, pct).toPandas()\n",
    "    sample_train = sample_train.drop('__index_level_0__', axis = 1)\n",
    "    print('sample_train shape = ', sample_train.shape)\n",
    "    \n",
    "    if sample_train.isnull().values.any():\n",
    "        print('Check null values')\n",
    "    \n",
    "    sample_test = df_val.toPandas().drop('__index_level_0__', axis = 1)\n",
    "    interactions_train, weights_train, interactions_test, weights_test = preprocessing(sample_train, sample_test)\n",
    "    p_at_k, t = train_and_test(interactions_train, interactions_test, weights_train, rank=150, regParam=0.05, maxIter=1,\\\n",
    "                           top=500, model_type='warp')"
   ]
  },
  {
   "cell_type": "code",
   "execution_count": 11,
   "metadata": {},
   "outputs": [],
   "source": [
    "#percent_train = [0.3]\n",
    "#for pct in percent_train:\n",
    "#    print('Model with {}% of training file size'.format(100*pct))\n",
    "#    sample_train = df_train.sample(False, pct).toPandas()\n",
    "#    sample_train = sample_train.drop('__index_level_0__', axis = 1)\n",
    "#    print('sample_train shape = ', sample_train.shape)\n",
    "#    \n",
    "#    if sample_train.isnull().values.any():\n",
    "#        print('Check null values')\n",
    "#    \n",
    "#    sample_test = df_val.toPandas().drop('__index_level_0__', axis = 1)\n",
    "#    interactions_train, weights_train, interactions_test, weights_test = preprocessing(sample_train, sample_test)\n",
    "#    p_at_k, t = train_and_test(interactions_train, interactions_test, weights_train, rank=150, regParam=0.05, maxIter=1,\\\n",
    "#                           top=500, model_type='warp')"
   ]
  },
  {
   "cell_type": "code",
   "execution_count": 10,
   "metadata": {},
   "outputs": [],
   "source": [
    "percent_train = [0.001, 0.005, 0.01, 0.05, 0.1]"
   ]
  },
  {
   "cell_type": "code",
   "execution_count": 11,
   "metadata": {},
   "outputs": [
    {
     "name": "stdout",
     "output_type": "stream",
     "text": [
      "Model with 0.1% of training file size\n",
      "sample_train shape =  (50109, 3)\n",
      "Model with maxIter = 1, reg = 0.05, rank = 150 complete\n",
      "Time used: 0.60579\n",
      "Precision at K: 0.0008662001\n",
      "Model with 0.5% of training file size\n",
      "sample_train shape =  (248646, 3)\n",
      "Model with maxIter = 1, reg = 0.05, rank = 150 complete\n",
      "Time used: 2.99508\n",
      "Precision at K: 0.00022580002\n",
      "Model with 1.0% of training file size\n",
      "sample_train shape =  (498464, 3)\n",
      "Model with maxIter = 1, reg = 0.05, rank = 150 complete\n",
      "Time used: 6.61177\n",
      "Precision at K: 0.000176\n",
      "Model with 5.0% of training file size\n",
      "sample_train shape =  (2490905, 3)\n",
      "Model with maxIter = 1, reg = 0.05, rank = 150 complete\n",
      "Time used: 41.13763\n",
      "Precision at K: 0.0001648\n",
      "Model with 10.0% of training file size\n",
      "sample_train shape =  (4982356, 3)\n",
      "Model with maxIter = 1, reg = 0.05, rank = 150 complete\n",
      "Time used: 78.97808\n",
      "Precision at K: 6.1599996e-05\n"
     ]
    }
   ],
   "source": [
    "for pct in percent_train:\n",
    "    print('Model with {}% of training file size'.format(100*pct))\n",
    "    sample_train = df_train.sample(False, pct).toPandas()\n",
    "    sample_train = sample_train.drop('__index_level_0__', axis = 1)\n",
    "    print('sample_train shape = ', sample_train.shape)\n",
    "    \n",
    "    if sample_train.isnull().values.any():\n",
    "        print('Check null values')\n",
    "    \n",
    "    sample_test = df_val.toPandas().drop('__index_level_0__', axis = 1)\n",
    "    interactions_train, weights_train, interactions_test, weights_test = preprocessing(sample_train, sample_test)\n",
    "    p_at_k, t = train_and_test(interactions_train, interactions_test, weights_train, rank=150, regParam=0.05, maxIter=1,\\\n",
    "                           top=500, model_type='bpr')"
   ]
  },
  {
   "cell_type": "code",
   "execution_count": 12,
   "metadata": {
    "scrolled": true
   },
   "outputs": [
    {
     "name": "stdout",
     "output_type": "stream",
     "text": [
      "Model with 15.0% of training file size\n",
      "sample_train shape =  (7474211, 3)\n",
      "Model with maxIter = 1, reg = 0.05, rank = 150 complete\n",
      "Time used: 112.86846\n",
      "Precision at K: 5.5599998e-05\n"
     ]
    }
   ],
   "source": [
    "percent_train = [0.15]\n",
    "for pct in percent_train:\n",
    "    print('Model with {}% of training file size'.format(100*pct))\n",
    "    sample_train = df_train.sample(False, pct).toPandas()\n",
    "    sample_train = sample_train.drop('__index_level_0__', axis = 1)\n",
    "    print('sample_train shape = ', sample_train.shape)\n",
    "    \n",
    "    if sample_train.isnull().values.any():\n",
    "        print('Check null values')\n",
    "    \n",
    "    sample_test = df_val.toPandas().drop('__index_level_0__', axis = 1)\n",
    "    interactions_train, weights_train, interactions_test, weights_test = preprocessing(sample_train, sample_test)\n",
    "    p_at_k, t = train_and_test(interactions_train, interactions_test, weights_train, rank=150, regParam=0.05, maxIter=1,\\\n",
    "                           top=500, model_type='bpr')"
   ]
  },
  {
   "cell_type": "code",
   "execution_count": null,
   "metadata": {},
   "outputs": [
    {
     "name": "stdout",
     "output_type": "stream",
     "text": [
      "Model with 20.0% of training file size\n",
      "sample_train shape =  (9964301, 3)\n",
      "Model with maxIter = 1, reg = 0.05, rank = 150 complete\n"
     ]
    }
   ],
   "source": [
    "#percent_train = [0.2]\n",
    "#for pct in percent_train:\n",
    "#    print('Model with {}% of training file size'.format(100*pct))\n",
    "#    sample_train = df_train.sample(False, pct).toPandas()\n",
    "#    sample_train = sample_train.drop('__index_level_0__', axis = 1)\n",
    "#   print('sample_train shape = ', sample_train.shape)\n",
    "#    \n",
    "#   if sample_train.isnull().values.any():\n",
    "#        print('Check null values')\n",
    "#    \n",
    "#    sample_test = df_val.toPandas().drop('__index_level_0__', axis = 1)\n",
    "#    interactions_train, weights_train, interactions_test, weights_test = preprocessing(sample_train, sample_test)\n",
    "#    p_at_k, t = train_and_test(interactions_train, interactions_test, weights_train, rank=150, regParam=0.05, maxIter=1,\\\n",
    "#                           top=500, model_type='bpr')"
   ]
  },
  {
   "cell_type": "markdown",
   "metadata": {},
   "source": [
    "# Visualize comparison"
   ]
  },
  {
   "cell_type": "code",
   "execution_count": 1,
   "metadata": {},
   "outputs": [],
   "source": [
    "import matplotlib.pyplot as plt"
   ]
  },
  {
   "cell_type": "code",
   "execution_count": 2,
   "metadata": {},
   "outputs": [],
   "source": [
    "als_pct = [0.1, 0.5, 1, 5, 10, 15, 20, 30]\n",
    "als_patk = [0.0029850746268656712, 0.0033964110929853167, 0.003495974235104671, 0.0037543151759695122, 0.003750449370880769, 0.0037317317317317306, 0.0037025862068965514, 0.00368924889543446]\n",
    "als_time = [103.61306, 263.3297, 431.63877, 1122.6328, 1569.89445, 2043.75282, 2550.93278, 2665.39342]"
   ]
  },
  {
   "cell_type": "code",
   "execution_count": 3,
   "metadata": {},
   "outputs": [],
   "source": [
    "warp_pct = [0.1, 0.5, 1, 5, 10, 15, 20]\n",
    "warp_patk = [0.004702, 0.0049528, 0.0049806, 0.0050526, 0.0050692, 0.0050472, 0.0050498]\n",
    "warp_time = [0.66391, 3.08813, 6.71991, 40.38718, 79.39929, 113.05296, 147.02114]"
   ]
  },
  {
   "cell_type": "code",
   "execution_count": 4,
   "metadata": {},
   "outputs": [],
   "source": [
    "bpr_pct = [0.1, 0.5, 1, 5, 10, 15]\n",
    "bpr_patk = [0.0008662001, 0.00022580002, 0.000176, 0.0001648, 6.1599996e-05, 5.5599998e-05]\n",
    "bpr_time = [0.60579, 2.99508, 6.61177, 41.13763, 78.97808, 112.86846]"
   ]
  },
  {
   "cell_type": "code",
   "execution_count": 18,
   "metadata": {},
   "outputs": [
    {
     "data": {
      "image/png": "[encoded data removed]",
      "text/plain": [
       "<Figure size 1152x360 with 2 Axes>"
      ]
     },
     "metadata": {
      "needs_background": "light"
     },
     "output_type": "display_data"
    }
   ],
   "source": [
    "fig, ax = plt.subplots(1, 2, figsize=(16, 5))\n",
    "ax[0].plot(als_pct, als_time, '*-', label='ALS')\n",
    "ax[0].plot(warp_pct, warp_time, '*-', label='LightFM Warp')\n",
    "ax[1].plot(als_pct, als_time, '*-', label='ALS')\n",
    "ax[1].plot(bpr_pct, bpr_time, '*-', label='LightFM Bpr')\n",
    "ax[0].legend()\n",
    "ax[1].legend()\n",
    "#ax[0].set_xscale('log')\n",
    "#ax[1].set_xscale('log')\n",
    "ax[0].set_xlabel('% training set size')\n",
    "ax[0].set_ylabel('time (second)')\n",
    "ax[1].set_xlabel('% training set size')\n",
    "ax[1].set_ylabel('time (second)')\n",
    "fig.suptitle('Time v.s. Training Set Size')\n",
    "plt.savefig('time.jpg', dpi=300)"
   ]
  },
  {
   "cell_type": "code",
   "execution_count": 17,
   "metadata": {},
   "outputs": [
    {
     "data": {
      "image/png": "[encoded data removed]",
      "text/plain": [
       "<Figure size 1152x360 with 2 Axes>"
      ]
     },
     "metadata": {
      "needs_background": "light"
     },
     "output_type": "display_data"
    }
   ],
   "source": [
    "fig, ax = plt.subplots(1, 2, figsize=(16, 5))\n",
    "ax[0].plot(als_pct, als_patk, '*-', label='ALS')\n",
    "ax[0].plot(warp_pct, warp_patk, '*-', label='LightFM Warp')\n",
    "ax[0].legend()\n",
    "ax[1].plot(als_pct, als_patk, '*-', label='ALS')\n",
    "ax[1].plot(bpr_pct, bpr_patk, '*-', label='LightFM Bpr')\n",
    "ax[1].legend()\n",
    "#ax[0].set_xscale('log')\n",
    "#ax[1].set_xscale('log')\n",
    "ax[0].set_xlabel('% training set size')\n",
    "ax[0].set_ylabel('precision @ k')\n",
    "ax[1].set_xlabel('% training set size')\n",
    "ax[1].set_ylabel('precision @ k')\n",
    "fig.suptitle('Precision @ k v.s. Training Set Size')\n",
    "plt.savefig('patk.jpg', dpi=300)"
   ]
  }
 ],
 "metadata": {
  "kernelspec": {
   "display_name": "Python 3",
   "language": "python",
   "name": "python3"
  },
  "language_info": {
   "codemirror_mode": {
    "name": "ipython",
    "version": 3
   },
   "file_extension": ".py",
   "mimetype": "text/x-python",
   "name": "python",
   "nbconvert_exporter": "python",
   "pygments_lexer": "ipython3",
   "version": "3.8.6"
  }
 },
 "nbformat": 4,
 "nbformat_minor": 4
}
