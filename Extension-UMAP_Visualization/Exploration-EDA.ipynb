{
 "cells": [
  {
   "cell_type": "markdown",
   "metadata": {},
   "source": [
    "## Exploration - EDA and Data Cleaning\n",
    "\n",
    "use the learned representation to develop a visualization of the items and users, e.g., using T-SNE or UMAP. The visualization should somehow integrate additional information (features, metadata, or genre tags) to illustrate how items are distributed in the learned space.\n",
    "\n",
    "This file requires input csv file: user_ids.csv and dominant_trackgenre.csv. user_ids.csv. track_ids.csv is available only in scratch/yw5280 and rquires permission to access. It is also too large to be committed to github. Please contact yw5280@nyu.edu for assistance if needed.\n",
    "\n",
    "This file outputs csv file: df_final.csv which is used in 'UMAP visualization.ipynb'"
   ]
  },
  {
   "cell_type": "code",
   "execution_count": 246,
   "metadata": {
    "scrolled": true
   },
   "outputs": [],
   "source": [
    "#pip install --pre umap-learn"
   ]
  },
  {
   "cell_type": "markdown",
   "metadata": {},
   "source": [
    "### Setup packages and enviornment"
   ]
  },
  {
   "cell_type": "code",
   "execution_count": 1,
   "metadata": {},
   "outputs": [],
   "source": [
    "# import pyspark as spark\n",
    "\n",
    "import os\n",
    "import sqlite3\n",
    "\n",
    "import pandas as pd\n",
    "import numpy as np\n",
    "import itertools\n",
    "from collections import Counter\n",
    "\n",
    "from pyspark.sql import functions as F\n",
    "from pyspark.sql.types import IntegerType\n",
    "import umap\n",
    "import umap.plot\n",
    "import matplotlib.pyplot as plt\n",
    "import time\n",
    "import datetime\n",
    "\n",
    "# from IPython.display import display\n",
    "# import matplotlib.pyplot as plt\n",
    "from pyspark.sql import SparkSession"
   ]
  },
  {
   "cell_type": "code",
   "execution_count": 2,
   "metadata": {},
   "outputs": [],
   "source": [
    "import dask\n",
    "import dask.bag as db\n",
    "import dask.dataframe as dd\n",
    "from distributed import Client\n",
    "from dask_jobqueue import SLURMCluster"
   ]
  },
  {
   "cell_type": "code",
   "execution_count": 3,
   "metadata": {},
   "outputs": [
    {
     "data": {
      "text/html": [
       "<table style=\"border: 2px solid white;\">\n",
       "<tr>\n",
       "<td style=\"vertical-align: top; border: 0px solid white\">\n",
       "<h3 style=\"text-align: left;\">Client</h3>\n",
       "<ul style=\"text-align: left; list-style: none; margin: 0; padding: 0;\">\n",
       "  <li><b>Scheduler: </b>tcp://127.0.0.1:35743</li>\n",
       "  <li><b>Dashboard: </b><a href='http://127.0.0.1:8787/status' target='_blank'>http://127.0.0.1:8787/status</a></li>\n",
       "</ul>\n",
       "</td>\n",
       "<td style=\"vertical-align: top; border: 0px solid white\">\n",
       "<h3 style=\"text-align: left;\">Cluster</h3>\n",
       "<ul style=\"text-align: left; list-style:none; margin: 0; padding: 0;\">\n",
       "  <li><b>Workers: </b>1</li>\n",
       "  <li><b>Cores: </b>1</li>\n",
       "  <li><b>Memory: </b>32.00 GiB</li>\n",
       "</ul>\n",
       "</td>\n",
       "</tr>\n",
       "</table>"
      ],
      "text/plain": [
       "<Client: 'tcp://127.0.0.1:35743' processes=1 threads=1, memory=32.00 GiB>"
      ]
     },
     "metadata": {},
     "output_type": "display_data"
    }
   ],
   "source": [
    "# Set LOCAL to True for single-machine execution while developing\n",
    "# Set LOCAL to False for cluster execution\n",
    "LOCAL = True\n",
    "\n",
    "if LOCAL:\n",
    "    # This line creates a single-machine dask client\n",
    "    client = Client()\n",
    "else:    \n",
    "    # This line creates a SLURM cluster dask and dask client\n",
    "    # Logging outputs will be stored in /scratch/{your-netid}\n",
    "    \n",
    "    cluster = SLURMCluster(memory='4GB', cores=2, python='/scratch/work/public/dask/bin/python', \n",
    "                               local_directory='/tmp/{}/'.format(os.environ['SLURM_JOB_USER']),\n",
    "                               job_extra=['--output=/scratch/{}/slurm-%j.out'.format(os.environ['SLURM_JOB_USER'])])\n",
    "\n",
    "    cluster.submit_command = 'slurm'\n",
    "    cluster.scale(100)\n",
    "\n",
    "    display(cluster)\n",
    "    client = Client(cluster)\n",
    "\n",
    "display(client)"
   ]
  },
  {
   "cell_type": "code",
   "execution_count": 4,
   "metadata": {},
   "outputs": [],
   "source": [
    "# Setup and configure spark session\n",
    "spark = SparkSession.builder \\\n",
    "  .master(\"local\") \\\n",
    "  .appName(\"parquet_example\") \\\n",
    "  .config('spark.sql.execution.arrow.pyspark.enabled', True) \\\n",
    "  .config('spark.sql.session.timeZone', 'UTC') \\\n",
    "  .config('spark.driver.memory','32G') \\\n",
    "  .config('spark.ui.showConsoleProgress', True) \\\n",
    "  .config('spark.sql.repl.eagerEval.enabled', True) \\\n",
    "  .getOrCreate()\n",
    "\n",
    "# Enable Arrow-based columnar data\n",
    "spark.conf.set(\"spark.sql.execution.arrow.pyspark.enabled\", \"true\")"
   ]
  },
  {
   "cell_type": "markdown",
   "metadata": {},
   "source": [
    "### Load data and data cleaning"
   ]
  },
  {
   "cell_type": "markdown",
   "metadata": {},
   "source": [
    "#### Import data"
   ]
  },
  {
   "cell_type": "markdown",
   "metadata": {},
   "source": [
    "Some preparations for reading learned latent factors output by ALS. We here read a folder of parquet files into 'csv_file.csv' and will read from 'csv_file.csv' later on."
   ]
  },
  {
   "cell_type": "code",
   "execution_count": 5,
   "metadata": {
    "scrolled": true
   },
   "outputs": [],
   "source": [
    "# Read data from hdfs\n",
    "# df_val = spark.read.parquet('/scratch/work/courses/DSGA1004-2021/MSD/cf_validation.parquet')\n",
    "# df_test = spark.read.parquet('/scratch/work/courses/DSGA1004-2021/MSD/cf_test.parquet')\n",
    "df_train = spark.read.parquet('/scratch/work/courses/DSGA1004-2021/MSD/cf_train_new.parquet')\n",
    "#spark.read.parquet('/scratch/work/courses/DSGA1004-2021/MSD/AdditionalFiles')\n",
    "\n",
    "# Union all training+val+test data\n",
    "# df = df_test.unionAll(df_val).unionAll(df_train)"
   ]
  },
  {
   "cell_type": "code",
   "execution_count": 6,
   "metadata": {},
   "outputs": [],
   "source": [
    "import glob\n",
    "files_user = (glob.glob(\"/home/yw5280/1004_Final_Test/user_ids/*.parquet\"))\n",
    "files_track = (glob.glob(\"/home/yw5280/1004_Final_Test/track_ids/*.parquet\"))\n",
    "files_user_factor = (glob.glob(\"/home/yw5280/1004_Final_Test/user_matrix/*.parquet\"))\n",
    "files_item_factor = (glob.glob(\"/home/yw5280/1004_Final_Test/item_matrix/*.parquet\"))"
   ]
  },
  {
   "cell_type": "markdown",
   "metadata": {},
   "source": [
    "Creating empty csv files and read and save parquet into csv"
   ]
  },
  {
   "cell_type": "code",
   "execution_count": 7,
   "metadata": {},
   "outputs": [],
   "source": [
    "# # Create an empty csv file and write the first parquet file with headers\n",
    "# with open('user_ids.csv','w') as csv_file:\n",
    "# #     print('Reading par_file1.parquet')\n",
    "# #     df = pd.read_parquet('par_file1.parquet')\n",
    "# #     df.to_csv(csv_file, index=False)\n",
    "# #     print('par_file1.parquet appended to csv_file.csv\\n')\n",
    "#     csv_file.close()"
   ]
  },
  {
   "cell_type": "code",
   "execution_count": 8,
   "metadata": {},
   "outputs": [],
   "source": [
    "# # open files and append to csv_file.csv\n",
    "# for f in files_user:\n",
    "#     print(f'Reading {f}')\n",
    "#     df = pd.read_parquet(f)\n",
    "#     with open('user_ids.csv','a') as file:\n",
    "#         df.to_csv(file, header=False, index=False)\n",
    "#         print(f'{f} appended to user_ids.csv\\n')"
   ]
  },
  {
   "cell_type": "code",
   "execution_count": 9,
   "metadata": {},
   "outputs": [],
   "source": [
    "# # Create an empty csv file and write the first parquet file with headers\n",
    "# with open('track_ids.csv','w') as csv_file:\n",
    "# #     print('Reading par_file1.parquet')\n",
    "# #     df = pd.read_parquet('par_file1.parquet')\n",
    "# #     df.to_csv(csv_file, index=False)\n",
    "# #     print('par_file1.parquet appended to csv_file.csv\\n')\n",
    "#     csv_file.close()"
   ]
  },
  {
   "cell_type": "code",
   "execution_count": 10,
   "metadata": {},
   "outputs": [],
   "source": [
    "# # open files and append to csv_file.csv\n",
    "# for f in files_track:\n",
    "#     print(f'Reading {f}')\n",
    "#     df = pd.read_parquet(f)\n",
    "#     with open('track_ids.csv','a') as file:\n",
    "#         df.to_csv(file, header=False, index=False)\n",
    "#         print(f'{f} appended to track_ids.csv\\n')"
   ]
  },
  {
   "cell_type": "code",
   "execution_count": null,
   "metadata": {},
   "outputs": [],
   "source": []
  },
  {
   "cell_type": "code",
   "execution_count": 11,
   "metadata": {},
   "outputs": [],
   "source": [
    "# # Create an empty csv file and write the first parquet file with headers\n",
    "# with open('user_matrix.csv','w') as csv_file:\n",
    "# #     print('Reading par_file1.parquet')\n",
    "# #     df = pd.read_parquet('par_file1.parquet')\n",
    "# #     df.to_csv(csv_file, index=False)\n",
    "# #     print('par_file1.parquet appended to csv_file.csv\\n')\n",
    "#     csv_file.close()"
   ]
  },
  {
   "cell_type": "code",
   "execution_count": 16,
   "metadata": {},
   "outputs": [],
   "source": [
    "# # open files and append to csv_file.csv\n",
    "# for f in files_user_factor:\n",
    "#     print(f'Reading {f}')\n",
    "#     df = pd.read_parquet(f)\n",
    "#     with open('user_matrix.csv','a') as file:\n",
    "#         df.to_csv(file, header=False, index=False)\n",
    "#         print(f'{f} appended to user_matrix.csv\\n')"
   ]
  },
  {
   "cell_type": "code",
   "execution_count": 20,
   "metadata": {},
   "outputs": [],
   "source": [
    "# # Create an empty csv file and write the first parquet file with headers\n",
    "# with open('item_matrix.csv','w') as csv_file:\n",
    "# #     print('Reading par_file1.parquet')\n",
    "# #     df = pd.read_parquet('par_file1.parquet')\n",
    "# #     df.to_csv(csv_file, index=False)\n",
    "# #     print('par_file1.parquet appended to csv_file.csv\\n')\n",
    "#     csv_file.close()"
   ]
  },
  {
   "cell_type": "code",
   "execution_count": 22,
   "metadata": {},
   "outputs": [],
   "source": [
    "# # open files and append to csv_file.csv\n",
    "# for f in files_item_factor:\n",
    "#     print(f'Reading {f}')\n",
    "#     df = pd.read_parquet(f)\n",
    "#     with open('item_matrix.csv','a') as file:\n",
    "#         df.to_csv(file, header=False, index=False)\n",
    "#         print(f'{f} appended to item_matrix.csv\\n')"
   ]
  },
  {
   "cell_type": "markdown",
   "metadata": {},
   "source": [
    "Read item factors and user factors directly from saved csv files"
   ]
  },
  {
   "cell_type": "code",
   "execution_count": 7,
   "metadata": {},
   "outputs": [],
   "source": [
    "user_ids = pd.read_csv('user_ids.csv', header = None)\n",
    "user_ids.columns = ['user_id','user_string_index']\n",
    "track_ids = pd.read_csv('track_ids.csv', header = None)\n",
    "track_ids.columns = ['track_id','track_string_index']\n",
    "\n",
    "user_factor = pd.read_csv('user_matrix.csv', header = None)\n",
    "user_factor.columns = ['user_string_index','user_factor']\n",
    "item_factor = pd.read_csv('item_matrix.csv', header = None)\n",
    "item_factor.columns = ['track_string_index','item_factor']"
   ]
  },
  {
   "cell_type": "code",
   "execution_count": 8,
   "metadata": {},
   "outputs": [],
   "source": [
    "# Read track metadata\n",
    "conn = sqlite3.connect(\"/scratch/work/courses/DSGA1004-2021/MSD/AdditionalFiles/track_metadata.db\")\n",
    "cur = conn.cursor()\n",
    "df_meta = pd.read_sql_query(\"SELECT * FROM songs\", conn)\n",
    "cur.close()\n",
    "conn.close()"
   ]
  },
  {
   "cell_type": "code",
   "execution_count": 7,
   "metadata": {},
   "outputs": [],
   "source": [
    "# # read artist data\n",
    "# # There are already many information readily available in the metadata about artists\n",
    "# conn = sqlite3.connect(\"/scratch/work/courses/DSGA1004-2021/MSD/AdditionalFiles/artist_term.db\")\n",
    "# cur = conn.cursor()\n",
    "# df_artterm = pd.read_sql_query(\"SELECT * FROM artist_term\", conn)\n",
    "# df_artmbt = pd.read_sql_query(\"SELECT * FROM artist_mbtag\", conn)\n",
    "# # df_mbt = pd.read_sql_query(\"SELECT * FROM mbtags\", conn)\n",
    "# # df_term = pd.read_sql_query(\"SELECT * FROM terms\", conn)\n",
    "# # df_artist = pd.read_sql_query(\"SELECT * FROM artists\", conn)\n",
    "# cur.close()\n",
    "# conn.close()"
   ]
  },
  {
   "cell_type": "code",
   "execution_count": 9,
   "metadata": {},
   "outputs": [],
   "source": [
    "# read tag data\n",
    "conn = sqlite3.connect(\"/scratch/work/courses/DSGA1004-2021/MSD/AdditionalFiles/lastfm_tags.db\")\n",
    "cur = conn.cursor()\n",
    "df_tags = pd.read_sql_query(\"SELECT * FROM tags\", conn)\n",
    "df_tidtag = pd.read_sql_query(\"SELECT * FROM tid_tag\", conn)\n",
    "df_tid = pd.read_sql_query(\"SELECT * FROM tids\", conn)\n",
    "cur.close()\n",
    "conn.close()"
   ]
  },
  {
   "cell_type": "code",
   "execution_count": 9,
   "metadata": {},
   "outputs": [],
   "source": [
    "# read song data\n",
    "# I don't think there are any tags/ features related to a song_id readily available in the /AdditionalFiles"
   ]
  },
  {
   "cell_type": "code",
   "execution_count": 10,
   "metadata": {},
   "outputs": [],
   "source": [
    "# rename keys for table merging\n",
    "df_tidtag.columns = ['tid_num','tag_num','val']\n",
    "df_tags.index.names = ['tag_num']\n",
    "df_tid.index.names = ['tid_num']\n",
    "df_meta.rename(columns={'track_id':'tid'}, inplace=True)"
   ]
  },
  {
   "cell_type": "markdown",
   "metadata": {},
   "source": [
    "#### Cleaning artist data. Note that after careful analysis, artist data will not be used now or later in this project"
   ]
  },
  {
   "cell_type": "code",
   "execution_count": 11,
   "metadata": {
    "scrolled": true
   },
   "outputs": [],
   "source": [
    "# df_artterm = pd.DataFrame(df_artterm.groupby('artist_id')['term'].apply(list))"
   ]
  },
  {
   "cell_type": "code",
   "execution_count": 12,
   "metadata": {},
   "outputs": [],
   "source": [
    "# # Many artists have multiple mbtags and many have none\n",
    "# # Total # of artists with at least one mbtag: 8838\n",
    "# df_artmbt = pd.DataFrame(df_artmbt.groupby('artist_id')['mbtag'].apply(list))"
   ]
  },
  {
   "cell_type": "code",
   "execution_count": 13,
   "metadata": {
    "scrolled": true
   },
   "outputs": [],
   "source": [
    "# df_artists = pd.merge(\n",
    "#     df_artterm,\n",
    "#     df_artmbt,\n",
    "#     how = 'outer',\n",
    "#     on = 'artist_id',\n",
    "#     sort = False)\n",
    "# # rename columns\n",
    "# df_artists.columns = ['artist_term', 'artist_mbtag']"
   ]
  },
  {
   "cell_type": "markdown",
   "metadata": {},
   "source": [
    "#### Cleaning genre tag data"
   ]
  },
  {
   "cell_type": "code",
   "execution_count": 11,
   "metadata": {},
   "outputs": [],
   "source": [
    "# Since pandas df index start from 0, \n",
    "# we subtract both track_id and tag_id by 1 to match the default index of pandas df\n",
    "df_tidtag['tid_num'] -= 1\n",
    "df_tidtag['tag_num'] -= 1"
   ]
  },
  {
   "cell_type": "code",
   "execution_count": 12,
   "metadata": {},
   "outputs": [],
   "source": [
    "# merge tags and track id\n",
    "df_all = pd.merge(\n",
    "    df_tidtag,\n",
    "    df_tags,\n",
    "    how = 'outer',\n",
    "    on = 'tag_num',\n",
    "    sort = False)\n",
    "\n",
    "df_all = pd.merge(\n",
    "    df_all,\n",
    "    df_tid,\n",
    "    how = 'outer',\n",
    "    on = 'tid_num',\n",
    "    sort = False)"
   ]
  },
  {
   "cell_type": "code",
   "execution_count": 13,
   "metadata": {
    "scrolled": false
   },
   "outputs": [],
   "source": [
    "# get a list of [(genre, val(in %))] pairs for each track\n",
    "df_all = pd.DataFrame(df_all.groupby('tid')[['tag', 'val']].apply(lambda g: dict(map(tuple, g.values.tolist()))))"
   ]
  },
  {
   "cell_type": "code",
   "execution_count": 14,
   "metadata": {},
   "outputs": [],
   "source": [
    "# rename the column\n",
    "df_all.columns = ['track_genre_val']"
   ]
  },
  {
   "cell_type": "markdown",
   "metadata": {},
   "source": [
    "#### Merging artist, genre tag data with metadata"
   ]
  },
  {
   "cell_type": "code",
   "execution_count": 15,
   "metadata": {},
   "outputs": [],
   "source": [
    "# merge metadata with track tags\n",
    "df_meta = pd.merge(\n",
    "    df_meta,\n",
    "    df_all,\n",
    "    how = 'outer',\n",
    "    on = 'tid',\n",
    "    sort = False)"
   ]
  },
  {
   "cell_type": "code",
   "execution_count": 19,
   "metadata": {},
   "outputs": [],
   "source": [
    "# # merge metadata with artist mbtag and term\n",
    "# df_meta = pd.merge(\n",
    "#     df_meta,\n",
    "#     df_artists,\n",
    "#     how = 'outer',\n",
    "#     on = 'artist_id',\n",
    "#     sort = False)"
   ]
  },
  {
   "cell_type": "code",
   "execution_count": 16,
   "metadata": {},
   "outputs": [],
   "source": [
    "# rename column for ease of merging\n",
    "df_meta.rename(columns={'tid':'track_id'}, inplace=True)"
   ]
  },
  {
   "cell_type": "markdown",
   "metadata": {},
   "source": [
    "#### Sampling and cleaning training+val+test data for plotting"
   ]
  },
  {
   "cell_type": "code",
   "execution_count": 17,
   "metadata": {},
   "outputs": [],
   "source": [
    "# random sampling 400k samples from the entire dataset\n",
    "# df_train.toPandas induces error because df_train too large (2m pyspark df)\n",
    "np.random.seed = 42\n",
    "df_samp = df_train.sample(False, 0.1, seed=66).limit(600000)"
   ]
  },
  {
   "cell_type": "code",
   "execution_count": 18,
   "metadata": {},
   "outputs": [],
   "source": [
    "# convert to pandas df\n",
    "samp_array = df_samp.collect()\n",
    "df_samp = df_samp.toPandas()"
   ]
  },
  {
   "cell_type": "code",
   "execution_count": 19,
   "metadata": {},
   "outputs": [],
   "source": [
    "# merge to get df for plot\n",
    "df_plot = pd.merge(\n",
    "    df_meta,\n",
    "    df_samp,\n",
    "    how = 'inner',\n",
    "    on = 'track_id',\n",
    "    sort = False)"
   ]
  },
  {
   "cell_type": "code",
   "execution_count": 20,
   "metadata": {
    "scrolled": true
   },
   "outputs": [],
   "source": [
    "# drop unnecessary column\n",
    "df_plot = df_plot.drop('__index_level_0__', axis = 1)\n",
    "# replace 0 release year with nan\n",
    "df_plot['year'] = df_plot['year'].replace(['0', 0], np.nan)"
   ]
  },
  {
   "cell_type": "markdown",
   "metadata": {},
   "source": [
    "### Join for user and track string index after ALS model"
   ]
  },
  {
   "cell_type": "code",
   "execution_count": 21,
   "metadata": {},
   "outputs": [],
   "source": [
    "df_plot = pd.merge(\n",
    "    df_plot,\n",
    "    user_ids,\n",
    "    how = 'inner',\n",
    "    on = 'user_id',\n",
    "    sort = False)"
   ]
  },
  {
   "cell_type": "code",
   "execution_count": 22,
   "metadata": {},
   "outputs": [],
   "source": [
    "df_plot = pd.merge(\n",
    "    df_plot,\n",
    "    track_ids,\n",
    "    how = 'inner',\n",
    "    on = 'track_id',\n",
    "    sort = False)"
   ]
  },
  {
   "cell_type": "markdown",
   "metadata": {},
   "source": [
    "### Join for userfactors and itemfactors after ALS model"
   ]
  },
  {
   "cell_type": "code",
   "execution_count": 23,
   "metadata": {},
   "outputs": [],
   "source": [
    "df_plot = pd.merge(\n",
    "    df_plot,\n",
    "    user_factor,\n",
    "    how = 'inner',\n",
    "    on = 'user_string_index',\n",
    "    sort = False)"
   ]
  },
  {
   "cell_type": "code",
   "execution_count": 24,
   "metadata": {},
   "outputs": [],
   "source": [
    "df_plot = pd.merge(\n",
    "    df_plot,\n",
    "    item_factor,\n",
    "    how = 'inner',\n",
    "    on = 'track_string_index',\n",
    "    sort = False)"
   ]
  },
  {
   "cell_type": "code",
   "execution_count": 29,
   "metadata": {
    "scrolled": true
   },
   "outputs": [
    {
     "data": {
      "text/html": [
       "<div>\n",
       "<style scoped>\n",
       "    .dataframe tbody tr th:only-of-type {\n",
       "        vertical-align: middle;\n",
       "    }\n",
       "\n",
       "    .dataframe tbody tr th {\n",
       "        vertical-align: top;\n",
       "    }\n",
       "\n",
       "    .dataframe thead th {\n",
       "        text-align: right;\n",
       "    }\n",
       "</style>\n",
       "<table border=\"1\" class=\"dataframe\">\n",
       "  <thead>\n",
       "    <tr style=\"text-align: right;\">\n",
       "      <th></th>\n",
       "      <th>track_id</th>\n",
       "      <th>title</th>\n",
       "      <th>song_id</th>\n",
       "      <th>release</th>\n",
       "      <th>artist_id</th>\n",
       "      <th>artist_mbid</th>\n",
       "      <th>artist_name</th>\n",
       "      <th>duration</th>\n",
       "      <th>artist_familiarity</th>\n",
       "      <th>artist_hotttnesss</th>\n",
       "      <th>year</th>\n",
       "      <th>track_genre_val</th>\n",
       "      <th>user_id</th>\n",
       "      <th>count</th>\n",
       "      <th>user_string_index</th>\n",
       "      <th>track_string_index</th>\n",
       "      <th>user_factor</th>\n",
       "      <th>item_factor</th>\n",
       "    </tr>\n",
       "  </thead>\n",
       "  <tbody>\n",
       "    <tr>\n",
       "      <th>0</th>\n",
       "      <td>TRWVTDX128F931ECEF</td>\n",
       "      <td>Paper Planes</td>\n",
       "      <td>SOUOEMP12A8C13866E</td>\n",
       "      <td>Decent Work For Decent Pay</td>\n",
       "      <td>ARDDMYP1187B9B8AE4</td>\n",
       "      <td>b22d45dd-deae-4663-a782-542db02e25cf</td>\n",
       "      <td>M.I.A.</td>\n",
       "      <td>206.13179</td>\n",
       "      <td>0.912247</td>\n",
       "      <td>0.644803</td>\n",
       "      <td>NaN</td>\n",
       "      <td>{'pop': 10.0, 'cool': 2.0, 'experimental': 2.0...</td>\n",
       "      <td>3affb0a71a06ddebbb9072d8ad827c2138d048ef</td>\n",
       "      <td>2</td>\n",
       "      <td>12869.0</td>\n",
       "      <td>104.0</td>\n",
       "      <td>[0.         0.22800162 0.00995558 0.         0...</td>\n",
       "      <td>[0.00551674 0.12907887 0.18673147 0.02059709 0...</td>\n",
       "    </tr>\n",
       "    <tr>\n",
       "      <th>1</th>\n",
       "      <td>TRWVTDX128F931ECEF</td>\n",
       "      <td>Paper Planes</td>\n",
       "      <td>SOUOEMP12A8C13866E</td>\n",
       "      <td>Decent Work For Decent Pay</td>\n",
       "      <td>ARDDMYP1187B9B8AE4</td>\n",
       "      <td>b22d45dd-deae-4663-a782-542db02e25cf</td>\n",
       "      <td>M.I.A.</td>\n",
       "      <td>206.13179</td>\n",
       "      <td>0.912247</td>\n",
       "      <td>0.644803</td>\n",
       "      <td>NaN</td>\n",
       "      <td>{'pop': 10.0, 'cool': 2.0, 'experimental': 2.0...</td>\n",
       "      <td>9aa0651b8f87752b3114157b25537d9c33049aa2</td>\n",
       "      <td>1</td>\n",
       "      <td>504.0</td>\n",
       "      <td>104.0</td>\n",
       "      <td>[0.         0.03079134 0.05358454 0.02317308 0...</td>\n",
       "      <td>[0.00551674 0.12907887 0.18673147 0.02059709 0...</td>\n",
       "    </tr>\n",
       "    <tr>\n",
       "      <th>2</th>\n",
       "      <td>TRWVTDX128F931ECEF</td>\n",
       "      <td>Paper Planes</td>\n",
       "      <td>SOUOEMP12A8C13866E</td>\n",
       "      <td>Decent Work For Decent Pay</td>\n",
       "      <td>ARDDMYP1187B9B8AE4</td>\n",
       "      <td>b22d45dd-deae-4663-a782-542db02e25cf</td>\n",
       "      <td>M.I.A.</td>\n",
       "      <td>206.13179</td>\n",
       "      <td>0.912247</td>\n",
       "      <td>0.644803</td>\n",
       "      <td>NaN</td>\n",
       "      <td>{'pop': 10.0, 'cool': 2.0, 'experimental': 2.0...</td>\n",
       "      <td>79a1ba30cec2ee1509f3c2df697916fe901b37e9</td>\n",
       "      <td>3</td>\n",
       "      <td>598.0</td>\n",
       "      <td>104.0</td>\n",
       "      <td>[0.02599008 0.05001412 0.01484298 0.00823193 0...</td>\n",
       "      <td>[0.00551674 0.12907887 0.18673147 0.02059709 0...</td>\n",
       "    </tr>\n",
       "    <tr>\n",
       "      <th>3</th>\n",
       "      <td>TRWVTDX128F931ECEF</td>\n",
       "      <td>Paper Planes</td>\n",
       "      <td>SOUOEMP12A8C13866E</td>\n",
       "      <td>Decent Work For Decent Pay</td>\n",
       "      <td>ARDDMYP1187B9B8AE4</td>\n",
       "      <td>b22d45dd-deae-4663-a782-542db02e25cf</td>\n",
       "      <td>M.I.A.</td>\n",
       "      <td>206.13179</td>\n",
       "      <td>0.912247</td>\n",
       "      <td>0.644803</td>\n",
       "      <td>NaN</td>\n",
       "      <td>{'pop': 10.0, 'cool': 2.0, 'experimental': 2.0...</td>\n",
       "      <td>f121dc68b37aa5f295940d3108f9cd4949c6f382</td>\n",
       "      <td>3</td>\n",
       "      <td>11038.0</td>\n",
       "      <td>104.0</td>\n",
       "      <td>[0.541773   0.         0.         0.         0...</td>\n",
       "      <td>[0.00551674 0.12907887 0.18673147 0.02059709 0...</td>\n",
       "    </tr>\n",
       "    <tr>\n",
       "      <th>4</th>\n",
       "      <td>TRWVTDX128F931ECEF</td>\n",
       "      <td>Paper Planes</td>\n",
       "      <td>SOUOEMP12A8C13866E</td>\n",
       "      <td>Decent Work For Decent Pay</td>\n",
       "      <td>ARDDMYP1187B9B8AE4</td>\n",
       "      <td>b22d45dd-deae-4663-a782-542db02e25cf</td>\n",
       "      <td>M.I.A.</td>\n",
       "      <td>206.13179</td>\n",
       "      <td>0.912247</td>\n",
       "      <td>0.644803</td>\n",
       "      <td>NaN</td>\n",
       "      <td>{'pop': 10.0, 'cool': 2.0, 'experimental': 2.0...</td>\n",
       "      <td>b60c136a565621b6261b7c4d41b5756cc681dc1d</td>\n",
       "      <td>2</td>\n",
       "      <td>19964.0</td>\n",
       "      <td>104.0</td>\n",
       "      <td>[0.00738652 0.08792698 0.         0.         0...</td>\n",
       "      <td>[0.00551674 0.12907887 0.18673147 0.02059709 0...</td>\n",
       "    </tr>\n",
       "    <tr>\n",
       "      <th>...</th>\n",
       "      <td>...</td>\n",
       "      <td>...</td>\n",
       "      <td>...</td>\n",
       "      <td>...</td>\n",
       "      <td>...</td>\n",
       "      <td>...</td>\n",
       "      <td>...</td>\n",
       "      <td>...</td>\n",
       "      <td>...</td>\n",
       "      <td>...</td>\n",
       "      <td>...</td>\n",
       "      <td>...</td>\n",
       "      <td>...</td>\n",
       "      <td>...</td>\n",
       "      <td>...</td>\n",
       "      <td>...</td>\n",
       "      <td>...</td>\n",
       "      <td>...</td>\n",
       "    </tr>\n",
       "    <tr>\n",
       "      <th>84074</th>\n",
       "      <td>TRAGVHG12903CEFC62</td>\n",
       "      <td>H.m.j.</td>\n",
       "      <td>SOQTXZE12A67ADA74A</td>\n",
       "      <td>Dragonslayer</td>\n",
       "      <td>ARIFAA91187FB37EA6</td>\n",
       "      <td>8097243f-7a3d-435a-a11e-0c5f886528e0</td>\n",
       "      <td>Dream Evil</td>\n",
       "      <td>164.36200</td>\n",
       "      <td>0.653299</td>\n",
       "      <td>0.482431</td>\n",
       "      <td>2002.0</td>\n",
       "      <td>{'heard on Pandora': 0.0, 'Power metal': 100.0...</td>\n",
       "      <td>0885a6856cb62fbb27fbbb060c3b5d66e9afa6c8</td>\n",
       "      <td>1</td>\n",
       "      <td>13326.0</td>\n",
       "      <td>97231.0</td>\n",
       "      <td>[0.00045793 0.09077659 0.         0.02956144 0...</td>\n",
       "      <td>[6.7974726e-04 0.0000000e+00 6.0554990e-03 0.0...</td>\n",
       "    </tr>\n",
       "    <tr>\n",
       "      <th>84075</th>\n",
       "      <td>TREWXVE12903CF221C</td>\n",
       "      <td>Into The Moonlight</td>\n",
       "      <td>SOJIAPL12A67AE23EE</td>\n",
       "      <td>The Book Of Heavy Metal</td>\n",
       "      <td>ARIFAA91187FB37EA6</td>\n",
       "      <td>8097243f-7a3d-435a-a11e-0c5f886528e0</td>\n",
       "      <td>Dream Evil</td>\n",
       "      <td>260.10077</td>\n",
       "      <td>0.653299</td>\n",
       "      <td>0.482431</td>\n",
       "      <td>2004.0</td>\n",
       "      <td>{'Progressive rock': 9.0, 'swedish': 22.0, 'ok...</td>\n",
       "      <td>0885a6856cb62fbb27fbbb060c3b5d66e9afa6c8</td>\n",
       "      <td>1</td>\n",
       "      <td>13326.0</td>\n",
       "      <td>114005.0</td>\n",
       "      <td>[0.00045793 0.09077659 0.         0.02956144 0...</td>\n",
       "      <td>[0.         0.         0.00658189 0.00013213 0...</td>\n",
       "    </tr>\n",
       "    <tr>\n",
       "      <th>84076</th>\n",
       "      <td>TRSGHJT128F930B8DD</td>\n",
       "      <td>Metal Invasion</td>\n",
       "      <td>SOFCWOC12AB0181B7B</td>\n",
       "      <td>Eternity</td>\n",
       "      <td>AR60SB71187B98DB4D</td>\n",
       "      <td>d4310265-7415-4802-b4f3-4b762217efbb</td>\n",
       "      <td>Freedom Call</td>\n",
       "      <td>409.02485</td>\n",
       "      <td>0.594303</td>\n",
       "      <td>0.504924</td>\n",
       "      <td>2002.0</td>\n",
       "      <td>{'Power metal': 100.0, 'heavy metal': 3.0, 'sp...</td>\n",
       "      <td>0885a6856cb62fbb27fbbb060c3b5d66e9afa6c8</td>\n",
       "      <td>2</td>\n",
       "      <td>13326.0</td>\n",
       "      <td>73778.0</td>\n",
       "      <td>[0.00045793 0.09077659 0.         0.02956144 0...</td>\n",
       "      <td>[0.         0.         0.         0.00122118 0...</td>\n",
       "    </tr>\n",
       "    <tr>\n",
       "      <th>84077</th>\n",
       "      <td>TRVHIWS12903CF1CA2</td>\n",
       "      <td>Forevermore</td>\n",
       "      <td>SOTIEMO12A6D4F6DE5</td>\n",
       "      <td>Evilized</td>\n",
       "      <td>ARIFAA91187FB37EA6</td>\n",
       "      <td>8097243f-7a3d-435a-a11e-0c5f886528e0</td>\n",
       "      <td>Dream Evil</td>\n",
       "      <td>307.93098</td>\n",
       "      <td>0.653299</td>\n",
       "      <td>0.482431</td>\n",
       "      <td>2003.0</td>\n",
       "      <td>{'Power metal': 100.0, 'Awesome': 20.0, 'Balla...</td>\n",
       "      <td>0885a6856cb62fbb27fbbb060c3b5d66e9afa6c8</td>\n",
       "      <td>1</td>\n",
       "      <td>13326.0</td>\n",
       "      <td>107522.0</td>\n",
       "      <td>[0.00045793 0.09077659 0.         0.02956144 0...</td>\n",
       "      <td>[0.00045911 0.         0.         0.00046286 0...</td>\n",
       "    </tr>\n",
       "    <tr>\n",
       "      <th>84078</th>\n",
       "      <td>TRXYIRS128F4224B11</td>\n",
       "      <td>Never_ Ever</td>\n",
       "      <td>SOLJAIT12AF72A46EC</td>\n",
       "      <td>Steel Meets Steel - 10 Years Of Glory</td>\n",
       "      <td>AROXIDV1187B9B222F</td>\n",
       "      <td>abf5f674-dbad-4219-b3ad-dbd6fb163c8e</td>\n",
       "      <td>HAMMERFALL</td>\n",
       "      <td>245.89016</td>\n",
       "      <td>0.784950</td>\n",
       "      <td>0.542169</td>\n",
       "      <td>NaN</td>\n",
       "      <td>NaN</td>\n",
       "      <td>0885a6856cb62fbb27fbbb060c3b5d66e9afa6c8</td>\n",
       "      <td>1</td>\n",
       "      <td>13326.0</td>\n",
       "      <td>50964.0</td>\n",
       "      <td>[0.00045793 0.09077659 0.         0.02956144 0...</td>\n",
       "      <td>[0.00043365 0.         0.01277605 0.         0...</td>\n",
       "    </tr>\n",
       "  </tbody>\n",
       "</table>\n",
       "<p>84079 rows × 18 columns</p>\n",
       "</div>"
      ],
      "text/plain": [
       "                 track_id               title             song_id  \\\n",
       "0      TRWVTDX128F931ECEF        Paper Planes  SOUOEMP12A8C13866E   \n",
       "1      TRWVTDX128F931ECEF        Paper Planes  SOUOEMP12A8C13866E   \n",
       "2      TRWVTDX128F931ECEF        Paper Planes  SOUOEMP12A8C13866E   \n",
       "3      TRWVTDX128F931ECEF        Paper Planes  SOUOEMP12A8C13866E   \n",
       "4      TRWVTDX128F931ECEF        Paper Planes  SOUOEMP12A8C13866E   \n",
       "...                   ...                 ...                 ...   \n",
       "84074  TRAGVHG12903CEFC62              H.m.j.  SOQTXZE12A67ADA74A   \n",
       "84075  TREWXVE12903CF221C  Into The Moonlight  SOJIAPL12A67AE23EE   \n",
       "84076  TRSGHJT128F930B8DD      Metal Invasion  SOFCWOC12AB0181B7B   \n",
       "84077  TRVHIWS12903CF1CA2         Forevermore  SOTIEMO12A6D4F6DE5   \n",
       "84078  TRXYIRS128F4224B11         Never_ Ever  SOLJAIT12AF72A46EC   \n",
       "\n",
       "                                     release           artist_id  \\\n",
       "0                 Decent Work For Decent Pay  ARDDMYP1187B9B8AE4   \n",
       "1                 Decent Work For Decent Pay  ARDDMYP1187B9B8AE4   \n",
       "2                 Decent Work For Decent Pay  ARDDMYP1187B9B8AE4   \n",
       "3                 Decent Work For Decent Pay  ARDDMYP1187B9B8AE4   \n",
       "4                 Decent Work For Decent Pay  ARDDMYP1187B9B8AE4   \n",
       "...                                      ...                 ...   \n",
       "84074                           Dragonslayer  ARIFAA91187FB37EA6   \n",
       "84075                The Book Of Heavy Metal  ARIFAA91187FB37EA6   \n",
       "84076                               Eternity  AR60SB71187B98DB4D   \n",
       "84077                               Evilized  ARIFAA91187FB37EA6   \n",
       "84078  Steel Meets Steel - 10 Years Of Glory  AROXIDV1187B9B222F   \n",
       "\n",
       "                                artist_mbid   artist_name   duration  \\\n",
       "0      b22d45dd-deae-4663-a782-542db02e25cf        M.I.A.  206.13179   \n",
       "1      b22d45dd-deae-4663-a782-542db02e25cf        M.I.A.  206.13179   \n",
       "2      b22d45dd-deae-4663-a782-542db02e25cf        M.I.A.  206.13179   \n",
       "3      b22d45dd-deae-4663-a782-542db02e25cf        M.I.A.  206.13179   \n",
       "4      b22d45dd-deae-4663-a782-542db02e25cf        M.I.A.  206.13179   \n",
       "...                                     ...           ...        ...   \n",
       "84074  8097243f-7a3d-435a-a11e-0c5f886528e0    Dream Evil  164.36200   \n",
       "84075  8097243f-7a3d-435a-a11e-0c5f886528e0    Dream Evil  260.10077   \n",
       "84076  d4310265-7415-4802-b4f3-4b762217efbb  Freedom Call  409.02485   \n",
       "84077  8097243f-7a3d-435a-a11e-0c5f886528e0    Dream Evil  307.93098   \n",
       "84078  abf5f674-dbad-4219-b3ad-dbd6fb163c8e    HAMMERFALL  245.89016   \n",
       "\n",
       "       artist_familiarity  artist_hotttnesss    year  \\\n",
       "0                0.912247           0.644803     NaN   \n",
       "1                0.912247           0.644803     NaN   \n",
       "2                0.912247           0.644803     NaN   \n",
       "3                0.912247           0.644803     NaN   \n",
       "4                0.912247           0.644803     NaN   \n",
       "...                   ...                ...     ...   \n",
       "84074            0.653299           0.482431  2002.0   \n",
       "84075            0.653299           0.482431  2004.0   \n",
       "84076            0.594303           0.504924  2002.0   \n",
       "84077            0.653299           0.482431  2003.0   \n",
       "84078            0.784950           0.542169     NaN   \n",
       "\n",
       "                                         track_genre_val  \\\n",
       "0      {'pop': 10.0, 'cool': 2.0, 'experimental': 2.0...   \n",
       "1      {'pop': 10.0, 'cool': 2.0, 'experimental': 2.0...   \n",
       "2      {'pop': 10.0, 'cool': 2.0, 'experimental': 2.0...   \n",
       "3      {'pop': 10.0, 'cool': 2.0, 'experimental': 2.0...   \n",
       "4      {'pop': 10.0, 'cool': 2.0, 'experimental': 2.0...   \n",
       "...                                                  ...   \n",
       "84074  {'heard on Pandora': 0.0, 'Power metal': 100.0...   \n",
       "84075  {'Progressive rock': 9.0, 'swedish': 22.0, 'ok...   \n",
       "84076  {'Power metal': 100.0, 'heavy metal': 3.0, 'sp...   \n",
       "84077  {'Power metal': 100.0, 'Awesome': 20.0, 'Balla...   \n",
       "84078                                                NaN   \n",
       "\n",
       "                                        user_id  count  user_string_index  \\\n",
       "0      3affb0a71a06ddebbb9072d8ad827c2138d048ef      2            12869.0   \n",
       "1      9aa0651b8f87752b3114157b25537d9c33049aa2      1              504.0   \n",
       "2      79a1ba30cec2ee1509f3c2df697916fe901b37e9      3              598.0   \n",
       "3      f121dc68b37aa5f295940d3108f9cd4949c6f382      3            11038.0   \n",
       "4      b60c136a565621b6261b7c4d41b5756cc681dc1d      2            19964.0   \n",
       "...                                         ...    ...                ...   \n",
       "84074  0885a6856cb62fbb27fbbb060c3b5d66e9afa6c8      1            13326.0   \n",
       "84075  0885a6856cb62fbb27fbbb060c3b5d66e9afa6c8      1            13326.0   \n",
       "84076  0885a6856cb62fbb27fbbb060c3b5d66e9afa6c8      2            13326.0   \n",
       "84077  0885a6856cb62fbb27fbbb060c3b5d66e9afa6c8      1            13326.0   \n",
       "84078  0885a6856cb62fbb27fbbb060c3b5d66e9afa6c8      1            13326.0   \n",
       "\n",
       "       track_string_index                                        user_factor  \\\n",
       "0                   104.0  [0.         0.22800162 0.00995558 0.         0...   \n",
       "1                   104.0  [0.         0.03079134 0.05358454 0.02317308 0...   \n",
       "2                   104.0  [0.02599008 0.05001412 0.01484298 0.00823193 0...   \n",
       "3                   104.0  [0.541773   0.         0.         0.         0...   \n",
       "4                   104.0  [0.00738652 0.08792698 0.         0.         0...   \n",
       "...                   ...                                                ...   \n",
       "84074             97231.0  [0.00045793 0.09077659 0.         0.02956144 0...   \n",
       "84075            114005.0  [0.00045793 0.09077659 0.         0.02956144 0...   \n",
       "84076             73778.0  [0.00045793 0.09077659 0.         0.02956144 0...   \n",
       "84077            107522.0  [0.00045793 0.09077659 0.         0.02956144 0...   \n",
       "84078             50964.0  [0.00045793 0.09077659 0.         0.02956144 0...   \n",
       "\n",
       "                                             item_factor  \n",
       "0      [0.00551674 0.12907887 0.18673147 0.02059709 0...  \n",
       "1      [0.00551674 0.12907887 0.18673147 0.02059709 0...  \n",
       "2      [0.00551674 0.12907887 0.18673147 0.02059709 0...  \n",
       "3      [0.00551674 0.12907887 0.18673147 0.02059709 0...  \n",
       "4      [0.00551674 0.12907887 0.18673147 0.02059709 0...  \n",
       "...                                                  ...  \n",
       "84074  [6.7974726e-04 0.0000000e+00 6.0554990e-03 0.0...  \n",
       "84075  [0.         0.         0.00658189 0.00013213 0...  \n",
       "84076  [0.         0.         0.         0.00122118 0...  \n",
       "84077  [0.00045911 0.         0.         0.00046286 0...  \n",
       "84078  [0.00043365 0.         0.01277605 0.         0...  \n",
       "\n",
       "[84079 rows x 18 columns]"
      ]
     },
     "execution_count": 29,
     "metadata": {},
     "output_type": "execute_result"
    }
   ],
   "source": [
    "df_plot"
   ]
  },
  {
   "cell_type": "code",
   "execution_count": 25,
   "metadata": {},
   "outputs": [],
   "source": [
    "test = df_plot[\n",
    "    [\n",
    "        \"duration\",\n",
    "        \"artist_familiarity\",\n",
    "        \"artist_hotttnesss\",\n",
    "        \"count\",\n",
    "        \"year\"\n",
    "    ]\n",
    "].values"
   ]
  },
  {
   "cell_type": "code",
   "execution_count": 31,
   "metadata": {},
   "outputs": [
    {
     "data": {
      "text/html": [
       "<div>\n",
       "<style scoped>\n",
       "    .dataframe tbody tr th:only-of-type {\n",
       "        vertical-align: middle;\n",
       "    }\n",
       "\n",
       "    .dataframe tbody tr th {\n",
       "        vertical-align: top;\n",
       "    }\n",
       "\n",
       "    .dataframe thead th {\n",
       "        text-align: right;\n",
       "    }\n",
       "</style>\n",
       "<table border=\"1\" class=\"dataframe\">\n",
       "  <thead>\n",
       "    <tr style=\"text-align: right;\">\n",
       "      <th></th>\n",
       "      <th>duration</th>\n",
       "      <th>artist_familiarity</th>\n",
       "      <th>artist_hotttnesss</th>\n",
       "      <th>count</th>\n",
       "      <th>year</th>\n",
       "    </tr>\n",
       "  </thead>\n",
       "  <tbody>\n",
       "    <tr>\n",
       "      <th>0</th>\n",
       "      <td>206.13179</td>\n",
       "      <td>0.912247</td>\n",
       "      <td>0.644803</td>\n",
       "      <td>2</td>\n",
       "      <td>NaN</td>\n",
       "    </tr>\n",
       "    <tr>\n",
       "      <th>1</th>\n",
       "      <td>206.13179</td>\n",
       "      <td>0.912247</td>\n",
       "      <td>0.644803</td>\n",
       "      <td>1</td>\n",
       "      <td>NaN</td>\n",
       "    </tr>\n",
       "    <tr>\n",
       "      <th>2</th>\n",
       "      <td>206.13179</td>\n",
       "      <td>0.912247</td>\n",
       "      <td>0.644803</td>\n",
       "      <td>3</td>\n",
       "      <td>NaN</td>\n",
       "    </tr>\n",
       "    <tr>\n",
       "      <th>3</th>\n",
       "      <td>206.13179</td>\n",
       "      <td>0.912247</td>\n",
       "      <td>0.644803</td>\n",
       "      <td>3</td>\n",
       "      <td>NaN</td>\n",
       "    </tr>\n",
       "    <tr>\n",
       "      <th>4</th>\n",
       "      <td>206.13179</td>\n",
       "      <td>0.912247</td>\n",
       "      <td>0.644803</td>\n",
       "      <td>2</td>\n",
       "      <td>NaN</td>\n",
       "    </tr>\n",
       "    <tr>\n",
       "      <th>...</th>\n",
       "      <td>...</td>\n",
       "      <td>...</td>\n",
       "      <td>...</td>\n",
       "      <td>...</td>\n",
       "      <td>...</td>\n",
       "    </tr>\n",
       "    <tr>\n",
       "      <th>84074</th>\n",
       "      <td>164.36200</td>\n",
       "      <td>0.653299</td>\n",
       "      <td>0.482431</td>\n",
       "      <td>1</td>\n",
       "      <td>2002.0</td>\n",
       "    </tr>\n",
       "    <tr>\n",
       "      <th>84075</th>\n",
       "      <td>260.10077</td>\n",
       "      <td>0.653299</td>\n",
       "      <td>0.482431</td>\n",
       "      <td>1</td>\n",
       "      <td>2004.0</td>\n",
       "    </tr>\n",
       "    <tr>\n",
       "      <th>84076</th>\n",
       "      <td>409.02485</td>\n",
       "      <td>0.594303</td>\n",
       "      <td>0.504924</td>\n",
       "      <td>2</td>\n",
       "      <td>2002.0</td>\n",
       "    </tr>\n",
       "    <tr>\n",
       "      <th>84077</th>\n",
       "      <td>307.93098</td>\n",
       "      <td>0.653299</td>\n",
       "      <td>0.482431</td>\n",
       "      <td>1</td>\n",
       "      <td>2003.0</td>\n",
       "    </tr>\n",
       "    <tr>\n",
       "      <th>84078</th>\n",
       "      <td>245.89016</td>\n",
       "      <td>0.784950</td>\n",
       "      <td>0.542169</td>\n",
       "      <td>1</td>\n",
       "      <td>NaN</td>\n",
       "    </tr>\n",
       "  </tbody>\n",
       "</table>\n",
       "<p>84079 rows × 5 columns</p>\n",
       "</div>"
      ],
      "text/plain": [
       "        duration  artist_familiarity  artist_hotttnesss  count    year\n",
       "0      206.13179            0.912247           0.644803      2     NaN\n",
       "1      206.13179            0.912247           0.644803      1     NaN\n",
       "2      206.13179            0.912247           0.644803      3     NaN\n",
       "3      206.13179            0.912247           0.644803      3     NaN\n",
       "4      206.13179            0.912247           0.644803      2     NaN\n",
       "...          ...                 ...                ...    ...     ...\n",
       "84074  164.36200            0.653299           0.482431      1  2002.0\n",
       "84075  260.10077            0.653299           0.482431      1  2004.0\n",
       "84076  409.02485            0.594303           0.504924      2  2002.0\n",
       "84077  307.93098            0.653299           0.482431      1  2003.0\n",
       "84078  245.89016            0.784950           0.542169      1     NaN\n",
       "\n",
       "[84079 rows x 5 columns]"
      ]
     },
     "execution_count": 31,
     "metadata": {},
     "output_type": "execute_result"
    }
   ],
   "source": [
    "df_plot[\n",
    "    [\n",
    "        \"duration\",\n",
    "        \"artist_familiarity\",\n",
    "        \"artist_hotttnesss\",\n",
    "        \"count\",\n",
    "        \"year\"\n",
    "    ]\n",
    "]"
   ]
  },
  {
   "cell_type": "code",
   "execution_count": 34,
   "metadata": {},
   "outputs": [
    {
     "data": {
      "text/plain": [
       "numpy.ndarray"
      ]
     },
     "execution_count": 34,
     "metadata": {},
     "output_type": "execute_result"
    }
   ],
   "source": [
    "type(test)"
   ]
  },
  {
   "cell_type": "markdown",
   "metadata": {},
   "source": [
    "### Unnecessary but Simple EDA: matplotlib + seaborn pairplot"
   ]
  },
  {
   "cell_type": "markdown",
   "metadata": {},
   "source": [
    "In this section, we will analyze the data and decide which genre/ tag to be assigned to an artist/ track. One artist will be resulted in one tag and one track will be associated with one genre. We do this single assignment for the ease of UMAP learning."
   ]
  },
  {
   "cell_type": "code",
   "execution_count": 49,
   "metadata": {
    "scrolled": true
   },
   "outputs": [
    {
     "data": {
      "text/html": [
       "<div>\n",
       "<style scoped>\n",
       "    .dataframe tbody tr th:only-of-type {\n",
       "        vertical-align: middle;\n",
       "    }\n",
       "\n",
       "    .dataframe tbody tr th {\n",
       "        vertical-align: top;\n",
       "    }\n",
       "\n",
       "    .dataframe thead th {\n",
       "        text-align: right;\n",
       "    }\n",
       "</style>\n",
       "<table border=\"1\" class=\"dataframe\">\n",
       "  <thead>\n",
       "    <tr style=\"text-align: right;\">\n",
       "      <th></th>\n",
       "      <th>duration</th>\n",
       "      <th>artist_familiarity</th>\n",
       "      <th>artist_hotttnesss</th>\n",
       "      <th>year</th>\n",
       "      <th>count</th>\n",
       "      <th>user_string_index</th>\n",
       "      <th>track_string_index</th>\n",
       "    </tr>\n",
       "  </thead>\n",
       "  <tbody>\n",
       "    <tr>\n",
       "      <th>count</th>\n",
       "      <td>84079.000000</td>\n",
       "      <td>84079.000000</td>\n",
       "      <td>84079.000000</td>\n",
       "      <td>69951.000000</td>\n",
       "      <td>84079.000000</td>\n",
       "      <td>84079.000000</td>\n",
       "      <td>84079.000000</td>\n",
       "    </tr>\n",
       "    <tr>\n",
       "      <th>mean</th>\n",
       "      <td>247.450555</td>\n",
       "      <td>0.740433</td>\n",
       "      <td>0.543940</td>\n",
       "      <td>2000.475390</td>\n",
       "      <td>2.257413</td>\n",
       "      <td>8847.613268</td>\n",
       "      <td>20706.272077</td>\n",
       "    </tr>\n",
       "    <tr>\n",
       "      <th>std</th>\n",
       "      <td>97.398078</td>\n",
       "      <td>0.117468</td>\n",
       "      <td>0.128194</td>\n",
       "      <td>9.565611</td>\n",
       "      <td>3.893776</td>\n",
       "      <td>6594.774722</td>\n",
       "      <td>25685.783406</td>\n",
       "    </tr>\n",
       "    <tr>\n",
       "      <th>min</th>\n",
       "      <td>1.122810</td>\n",
       "      <td>-1.000000</td>\n",
       "      <td>0.000000</td>\n",
       "      <td>1929.000000</td>\n",
       "      <td>1.000000</td>\n",
       "      <td>2.000000</td>\n",
       "      <td>0.000000</td>\n",
       "    </tr>\n",
       "    <tr>\n",
       "      <th>25%</th>\n",
       "      <td>195.944040</td>\n",
       "      <td>0.674497</td>\n",
       "      <td>0.468773</td>\n",
       "      <td>1997.000000</td>\n",
       "      <td>1.000000</td>\n",
       "      <td>3006.000000</td>\n",
       "      <td>2426.000000</td>\n",
       "    </tr>\n",
       "    <tr>\n",
       "      <th>50%</th>\n",
       "      <td>233.508120</td>\n",
       "      <td>0.757952</td>\n",
       "      <td>0.532283</td>\n",
       "      <td>2004.000000</td>\n",
       "      <td>1.000000</td>\n",
       "      <td>7668.000000</td>\n",
       "      <td>10016.000000</td>\n",
       "    </tr>\n",
       "    <tr>\n",
       "      <th>75%</th>\n",
       "      <td>280.633020</td>\n",
       "      <td>0.828303</td>\n",
       "      <td>0.587705</td>\n",
       "      <td>2007.000000</td>\n",
       "      <td>2.000000</td>\n",
       "      <td>14412.000000</td>\n",
       "      <td>29339.000000</td>\n",
       "    </tr>\n",
       "    <tr>\n",
       "      <th>max</th>\n",
       "      <td>3024.665670</td>\n",
       "      <td>1.000000</td>\n",
       "      <td>1.082503</td>\n",
       "      <td>2010.000000</td>\n",
       "      <td>342.000000</td>\n",
       "      <td>22170.000000</td>\n",
       "      <td>119507.000000</td>\n",
       "    </tr>\n",
       "  </tbody>\n",
       "</table>\n",
       "</div>"
      ],
      "text/plain": [
       "           duration  artist_familiarity  artist_hotttnesss          year  \\\n",
       "count  84079.000000        84079.000000       84079.000000  69951.000000   \n",
       "mean     247.450555            0.740433           0.543940   2000.475390   \n",
       "std       97.398078            0.117468           0.128194      9.565611   \n",
       "min        1.122810           -1.000000           0.000000   1929.000000   \n",
       "25%      195.944040            0.674497           0.468773   1997.000000   \n",
       "50%      233.508120            0.757952           0.532283   2004.000000   \n",
       "75%      280.633020            0.828303           0.587705   2007.000000   \n",
       "max     3024.665670            1.000000           1.082503   2010.000000   \n",
       "\n",
       "              count  user_string_index  track_string_index  \n",
       "count  84079.000000       84079.000000        84079.000000  \n",
       "mean       2.257413        8847.613268        20706.272077  \n",
       "std        3.893776        6594.774722        25685.783406  \n",
       "min        1.000000           2.000000            0.000000  \n",
       "25%        1.000000        3006.000000         2426.000000  \n",
       "50%        1.000000        7668.000000        10016.000000  \n",
       "75%        2.000000       14412.000000        29339.000000  \n",
       "max      342.000000       22170.000000       119507.000000  "
      ]
     },
     "execution_count": 49,
     "metadata": {},
     "output_type": "execute_result"
    }
   ],
   "source": [
    "df_plot.describe()"
   ]
  },
  {
   "cell_type": "code",
   "execution_count": 59,
   "metadata": {},
   "outputs": [
    {
     "data": {
      "text/plain": [
       "<seaborn.axisgrid.PairGrid at 0x14ad01932a60>"
      ]
     },
     "execution_count": 59,
     "metadata": {},
     "output_type": "execute_result"
    },
    {
     "data": {
      "image/png": "[encoded data removed]",
      "text/plain": [
       "<Figure size 900x900 with 30 Axes>"
      ]
     },
     "metadata": {
      "needs_background": "light"
     },
     "output_type": "display_data"
    }
   ],
   "source": [
    "import seaborn as sns\n",
    "sns.pairplot(df_plot, kind = 'hist') #hue?"
   ]
  },
  {
   "cell_type": "markdown",
   "metadata": {},
   "source": [
    "#### Artist vs genre tags eda\n",
    "\n",
    "This is useful for selecting the most descriptive artist genre tag.\n",
    "\n",
    "Each artist will be assigned with a genre tag that has the highest appearance rank among all artists. The rank of a genre is calculated from the total number of times it appears in the entire MSD dataset. (Assumption made: the more times an artist genre appears the hotter/ more popular this genre is)\n",
    "\n",
    "This would introduce a somewhat popularity bias but still would be descriptive for a specific artist"
   ]
  },
  {
   "cell_type": "code",
   "execution_count": 25,
   "metadata": {
    "scrolled": true
   },
   "outputs": [],
   "source": [
    "# # most listened to by different users (1 user = 1 count; any more counts by the same user are not calculated)\n",
    "# most_artist = pd.DataFrame(df_plot[[\"artist_name\", \"artist_id\"]].value_counts(ascending = True))\n",
    "# most_artist.columns = ['count']\n",
    "# most_artist['rank'] = most_artist['count'].rank()"
   ]
  },
  {
   "cell_type": "code",
   "execution_count": 26,
   "metadata": {
    "scrolled": true
   },
   "outputs": [],
   "source": [
    "# mostlistened_artist = pd.DataFrame(df_plot.groupby(['artist_name','artist_id'])['count'].apply(sum))\\\n",
    "#                                     .sort_values('count', ascending = True)\n",
    "# mostlistened_artist['rank'] = mostlistened_artist['count'].rank()"
   ]
  },
  {
   "cell_type": "code",
   "execution_count": 27,
   "metadata": {},
   "outputs": [],
   "source": [
    "# most_artist_20 = most_artist.tail(20)\n",
    "# mostlistened_artist_20 = mostlistened_artist.tail(20)"
   ]
  },
  {
   "cell_type": "code",
   "execution_count": 334,
   "metadata": {
    "scrolled": true
   },
   "outputs": [
    {
     "data": {
      "text/plain": [
       "Text(0.5, 1.0, 'top 20 artists listened the most times')"
      ]
     },
     "execution_count": 334,
     "metadata": {},
     "output_type": "execute_result"
    },
    {
     "data": {
      "image/png": "[encoded data removed]",
      "text/plain": [
       "<Figure size 1080x720 with 2 Axes>"
      ]
     },
     "metadata": {
      "needs_background": "light"
     },
     "output_type": "display_data"
    }
   ],
   "source": [
    "# # side by side bar chart: most listened artists (by most users versus by most times)\n",
    "# x1, y1, x2, y2 = most_artist_20.index.get_level_values(0), most_artist_20['count'],\\\n",
    "#                 mostlistened_artist_20.index.get_level_values(0), mostlistened_artist_20['count']\n",
    "# fig = plt.figure(figsize = (15,10))\n",
    "# ax = fig.add_subplot(121)\n",
    "# plt.barh(x1,y1)\n",
    "# plt.title('top 20 artists listened by most users')\n",
    "# ax = fig.add_subplot(122)\n",
    "# plt.barh(x2,y2)\n",
    "# plt.title('top 20 artists listened the most times')"
   ]
  },
  {
   "cell_type": "markdown",
   "metadata": {},
   "source": [
    "##### Selecting artist tags (for artists with multiple tags)"
   ]
  },
  {
   "cell_type": "code",
   "execution_count": 28,
   "metadata": {
    "scrolled": true
   },
   "outputs": [],
   "source": [
    "# artist_term = list(df_plot['artist_term'].dropna())\n",
    "# artist_term = pd.DataFrame(list(itertools.chain(*artist_term)))\n",
    "# artist_term = pd.DataFrame(artist_term.value_counts().sort_values(ascending = True))\n",
    "# artist_term.columns = ['count']\n",
    "# artist_term['rank'] = artist_term.rank()"
   ]
  },
  {
   "cell_type": "code",
   "execution_count": 29,
   "metadata": {
    "scrolled": true
   },
   "outputs": [],
   "source": [
    "# artist_mbtag = list(df_plot['artist_mbtag'].dropna())\n",
    "# artist_mbtag = pd.DataFrame(list(itertools.chain(*artist_mbtag)))\n",
    "# artist_mbtag = pd.DataFrame(artist_mbtag.value_counts().sort_values(ascending = True))\n",
    "# artist_mbtag.columns = ['count']\n",
    "# artist_mbtag['rank'] = artist_mbtag.rank()"
   ]
  },
  {
   "cell_type": "code",
   "execution_count": 30,
   "metadata": {},
   "outputs": [],
   "source": [
    "# artist_term_20 = artist_term.tail(20)\n",
    "# artist_mbtag_20 = artist_mbtag.tail(20)"
   ]
  },
  {
   "cell_type": "code",
   "execution_count": 339,
   "metadata": {
    "scrolled": true
   },
   "outputs": [
    {
     "data": {
      "text/plain": [
       "Text(0.5, 1.0, 'top 20 mbtags of the most listened artists')"
      ]
     },
     "execution_count": 339,
     "metadata": {},
     "output_type": "execute_result"
    },
    {
     "data": {
      "image/png": "[encoded data removed]",
      "text/plain": [
       "<Figure size 1080x720 with 2 Axes>"
      ]
     },
     "metadata": {
      "needs_background": "light"
     },
     "output_type": "display_data"
    }
   ],
   "source": [
    "# # side by side bar chart: top 20 artist term vs mbtags of most listened artists\n",
    "# x1, y1, x2, y2 = artist_term_20.index.get_level_values(0), artist_term_20['count'],\\\n",
    "#                 artist_mbtag_20.index.get_level_values(0), artist_mbtag_20['count']\n",
    "# fig = plt.figure(figsize = (15,10))\n",
    "# ax = fig.add_subplot(121)\n",
    "# plt.barh(x1,y1)\n",
    "# plt.title('top 20 genre terms of the most listened artists')\n",
    "# ax = fig.add_subplot(122)\n",
    "# plt.barh(x2,y2)\n",
    "# plt.title('top 20 mbtags of the most listened artists')"
   ]
  },
  {
   "cell_type": "markdown",
   "metadata": {},
   "source": [
    "#### Track analysis\n",
    "\n",
    "This could also be used for selecting the most descriptive genre tag for a track"
   ]
  },
  {
   "cell_type": "code",
   "execution_count": 60,
   "metadata": {
    "scrolled": true
   },
   "outputs": [],
   "source": [
    "# most listened to by different users (1 user = 1 count; any more counts by the same user are not calculated)\n",
    "most_track = pd.DataFrame(df_plot[[\"track_id\", \"title\"]].value_counts(ascending = True))\n",
    "most_track.columns = ['count']"
   ]
  },
  {
   "cell_type": "code",
   "execution_count": 61,
   "metadata": {
    "scrolled": true
   },
   "outputs": [],
   "source": [
    "mostlistened_track = pd.DataFrame(df_plot.groupby([\"track_id\", \"title\"])['count'].apply(sum))\\\n",
    "                                    .sort_values('count', ascending = True)"
   ]
  },
  {
   "cell_type": "code",
   "execution_count": 62,
   "metadata": {},
   "outputs": [],
   "source": [
    "most_track_20 = most_track.tail(20)\n",
    "mostlistened_track_20 = mostlistened_track.tail(20)"
   ]
  },
  {
   "cell_type": "code",
   "execution_count": 63,
   "metadata": {
    "scrolled": true
   },
   "outputs": [
    {
     "data": {
      "text/plain": [
       "Text(0.5, 1.0, 'top 20 tracks listened the most times')"
      ]
     },
     "execution_count": 63,
     "metadata": {},
     "output_type": "execute_result"
    },
    {
     "data": {
      "image/png": "[encoded data removed]",
      "text/plain": [
       "<Figure size 1080x720 with 2 Axes>"
      ]
     },
     "metadata": {
      "needs_background": "light"
     },
     "output_type": "display_data"
    }
   ],
   "source": [
    "# side by side bar chart: most listened artists (by most users versus by most times)\n",
    "x1, y1, x2, y2 = most_track_20.index.get_level_values(1), most_track_20['count'],\\\n",
    "                mostlistened_track_20.index.get_level_values(1), mostlistened_track_20['count']\n",
    "fig = plt.figure(figsize = (15,10))\n",
    "ax = fig.add_subplot(121)\n",
    "plt.barh(x1,y1)\n",
    "plt.title('top 20 tracks listened by most users')\n",
    "ax = fig.add_subplot(122)\n",
    "plt.barh(x2,y2)\n",
    "plt.title('top 20 tracks listened the most times')"
   ]
  },
  {
   "cell_type": "markdown",
   "metadata": {},
   "source": [
    "##### A demograph of the number of times track being listend to\n",
    "\n",
    "Most tracks are only listened to once or twice. "
   ]
  },
  {
   "cell_type": "code",
   "execution_count": 64,
   "metadata": {},
   "outputs": [],
   "source": [
    "# track versus count pie chart\n",
    "# most track are only listend to by once or twice\n",
    "times = [*range(1,20,1)]\n",
    "times_full = [*range(1, max(mostlistened_track['count']), 1)]\n",
    "times_listened_to_1, times_listened_to_2 = {}, {}\n",
    "for time in times:\n",
    "    times_listened_to_1[str(time)] = len(mostlistened_track[mostlistened_track['count'] == time])/ len(mostlistened_track)\n",
    "for time in times_full:\n",
    "    times_listened_to_2[str(time)] = len(mostlistened_track[mostlistened_track['count'] == time])/ len(mostlistened_track)"
   ]
  },
  {
   "cell_type": "code",
   "execution_count": 65,
   "metadata": {},
   "outputs": [],
   "source": [
    "times_df_1 = pd.DataFrame(list(times_listened_to_1.items()),columns = ['times listened to','%'])\n",
    "times_df_2 = pd.DataFrame(list(times_listened_to_2.items()),columns = ['times listened to','%'])"
   ]
  },
  {
   "cell_type": "code",
   "execution_count": 66,
   "metadata": {
    "scrolled": true
   },
   "outputs": [
    {
     "data": {
      "text/plain": [
       "<AxesSubplot:>"
      ]
     },
     "execution_count": 66,
     "metadata": {},
     "output_type": "execute_result"
    },
    {
     "data": {
      "image/png": "[encoded data removed]",
      "text/plain": [
       "<Figure size 432x288 with 1 Axes>"
      ]
     },
     "metadata": {
      "needs_background": "light"
     },
     "output_type": "display_data"
    },
    {
     "data": {
      "image/png": "[encoded data removed]",
      "text/plain": [
       "<Figure size 432x288 with 1 Axes>"
      ]
     },
     "metadata": {
      "needs_background": "light"
     },
     "output_type": "display_data"
    }
   ],
   "source": [
    "times_df_1.plot()\n",
    "times_df_2.plot()"
   ]
  },
  {
   "cell_type": "markdown",
   "metadata": {},
   "source": [
    "There is a clear decrease at range (1, 5) and there is almost no change in the range (1000, 8000) so we will binning the \"number of times a track is listened to\" by [1, 2, 3 - 5, 6-10, 11 - 49, 50 - 99, 100 - 999, >= 1000]"
   ]
  },
  {
   "cell_type": "code",
   "execution_count": 67,
   "metadata": {},
   "outputs": [],
   "source": [
    "df_times = {'Once': len(mostlistened_track[mostlistened_track['count'] == 1])/ len(mostlistened_track),\n",
    "            'Twice': len(mostlistened_track[mostlistened_track['count'] == 2])/ len(mostlistened_track),\n",
    "            '3 - 5': len(mostlistened_track[mostlistened_track['count'].between(3,5)])/ len(mostlistened_track),\n",
    "            '6-10': len(mostlistened_track[mostlistened_track['count'].between(6,10)])/ len(mostlistened_track),\n",
    "            '11-49': len(mostlistened_track[mostlistened_track['count'].between(11,49)])/ len(mostlistened_track),\n",
    "            '50-99': len(mostlistened_track[mostlistened_track['count'].between(50,99)])/ len(mostlistened_track),\n",
    "            '100-999': len(mostlistened_track[mostlistened_track['count'].between(100,999)])/ len(mostlistened_track),\n",
    "            '>999': len(mostlistened_track[mostlistened_track['count'] >= 1000])/ len(mostlistened_track)\n",
    "           }\n",
    "df_times = pd.DataFrame(list(df_times.items()),columns = ['times listened to','%'])"
   ]
  },
  {
   "cell_type": "code",
   "execution_count": 68,
   "metadata": {},
   "outputs": [],
   "source": [
    "df_times = df_times.set_index('times listened to')"
   ]
  },
  {
   "cell_type": "code",
   "execution_count": 69,
   "metadata": {},
   "outputs": [
    {
     "data": {
      "text/plain": [
       "<AxesSubplot:ylabel='%'>"
      ]
     },
     "execution_count": 69,
     "metadata": {},
     "output_type": "execute_result"
    },
    {
     "data": {
      "image/png": "[encoded data removed]",
      "text/plain": [
       "<Figure size 720x720 with 1 Axes>"
      ]
     },
     "metadata": {},
     "output_type": "display_data"
    }
   ],
   "source": [
    "df_times.plot.pie(y = '%', figsize=(10, 10))\n",
    "# label it!!"
   ]
  },
  {
   "cell_type": "markdown",
   "metadata": {},
   "source": [
    "##### Selecting tags for tracks with multiple dominant genres\n",
    "\n",
    "For tracks with multiple dominant genres, the most popular genre dominate the track genre and the popularity of a track genre is calculated from the total number of times this genre appears in the MSD. (Assumption made similar to the one in deciding artist genre/ tag popularity)\n",
    "\n",
    "This could introduce a popularity bias but should be somewhat less biased than artist genre assignment (an artist's genre could be far more diverse than a track's genre and it could be trickier for us to assign a single genre to an artist. On the contrary, assigning one genre to a track sounds a little better)"
   ]
  },
  {
   "cell_type": "code",
   "execution_count": 50,
   "metadata": {},
   "outputs": [],
   "source": [
    "track_genre_full = df_plot['track_genre_val'].dropna()\n",
    "track_genre_full = list(track_genre_full.apply(lambda x: list(x.keys())))\n",
    "track_genre_full = list(itertools.chain(*track_genre_full))\n",
    "track_genre_dict = Counter((genre for genre in track_genre_full))\n",
    "genre = pd.DataFrame(list(track_genre_dict.items()),columns = ['genre','count']).sort_values('count', ascending = True)"
   ]
  },
  {
   "cell_type": "code",
   "execution_count": 51,
   "metadata": {},
   "outputs": [],
   "source": [
    "# rank the genres by the number of times they appear in the MSD track_genre\n",
    "# For tracks with multiple dominant genres, the most popular genre dominate the track genre\n",
    "genre['rank'] = genre['count'].rank()"
   ]
  },
  {
   "cell_type": "code",
   "execution_count": 52,
   "metadata": {},
   "outputs": [],
   "source": [
    "genre_10 = genre.tail(13)\n",
    "genre_50 = genre.tail(50)"
   ]
  },
  {
   "cell_type": "code",
   "execution_count": 76,
   "metadata": {
    "scrolled": true
   },
   "outputs": [
    {
     "data": {
      "text/plain": [
       "<BarContainer object of 13 artists>"
      ]
     },
     "execution_count": 76,
     "metadata": {},
     "output_type": "execute_result"
    },
    {
     "data": {
      "image/png": "[encoded data removed]",
      "text/plain": [
       "<Figure size 504x720 with 1 Axes>"
      ]
     },
     "metadata": {
      "needs_background": "light"
     },
     "output_type": "display_data"
    }
   ],
   "source": [
    "# top 20 most popular genres (by number of times they appear)\n",
    "x1, y1 = genre_10['genre'], genre_10['count']\n",
    "fig = plt.figure(figsize = (7,10))\n",
    "plt.barh(x1,y1)"
   ]
  },
  {
   "cell_type": "code",
   "execution_count": 45,
   "metadata": {},
   "outputs": [],
   "source": [
    "# def contains_fav(str):\n",
    "#     if 'favorite' in str:\n",
    "#         return True\n",
    "#     if 'Favorite' in str:\n",
    "#         return True\n",
    "#     if 'favourite' in str:\n",
    "#         return True\n",
    "#     if 'Favourite' in str:\n",
    "#         return True\n",
    "#     return False"
   ]
  },
  {
   "cell_type": "code",
   "execution_count": 53,
   "metadata": {},
   "outputs": [],
   "source": [
    "# genre_50.to_csv('genre_50.csv')\n",
    "# genre_10.to_csv('genre_10.csv')"
   ]
  },
  {
   "cell_type": "markdown",
   "metadata": {},
   "source": [
    "### Data Cleaning continued (after EDA) for track&artist genres\n",
    "\n",
    "In this section, we will assign one genre/ tag to each of an artist/ track based on the popularity rankings of the tags made in EDA. The larger the rank, the more popular the tag.\n",
    "\n",
    "If there is a tie in the tag rank - tie not observed."
   ]
  },
  {
   "cell_type": "markdown",
   "metadata": {},
   "source": [
    "Cleaning for artist term and save result"
   ]
  },
  {
   "cell_type": "code",
   "execution_count": 81,
   "metadata": {},
   "outputs": [],
   "source": [
    "# # Cleaning for artist term\n",
    "# import math\n",
    "# #optimizable\n",
    "\n",
    "# def select_term(genre_lst):\n",
    "#     \"\"\"\n",
    "#     inputs: \n",
    "#         track(boolean):\n",
    "#             True means it is from the track_genre_val column, \n",
    "#             otherwise artist_mbtag/ artist_term\n",
    "#         row: input row to be cleaned\n",
    "#     return: a dominant genre/ tag for a track/ artist\n",
    "#     \"\"\"\n",
    "# #     if genre_lst != genre_lst: return row # check for nan rows\n",
    "# #     if track:\n",
    "# #         genre_lst = find_max_genre(row)\n",
    "# #         rank = [int(genre[genre['genre'] == tag]['rank']) for tag in genre_lst]\n",
    "# #     else:\n",
    "#     rank = [int(artist_term['rank'][tag]) for tag in genre_lst]\n",
    "#     max_index = [idx for idx, val in enumerate(rank) if val == max(rank)]\n",
    "#     dominant_genre = [genre_lst[idx] for idx in max_index]\n",
    "#     return dominant_genre"
   ]
  },
  {
   "cell_type": "code",
   "execution_count": 83,
   "metadata": {
    "scrolled": true
   },
   "outputs": [],
   "source": [
    "# genre_lst = df_plot['artist_term'].dropna()\n",
    "# dominant_genre_dropna = genre_lst.apply(lambda x: select_term(x))\n",
    "# dominant_genre_dropna.to_csv('dominan_genre.csv')\n",
    "# # df_plot.to_csv('cleaned_df.csv')"
   ]
  },
  {
   "cell_type": "markdown",
   "metadata": {},
   "source": [
    "Cleaning for track genre and save result"
   ]
  },
  {
   "cell_type": "code",
   "execution_count": 54,
   "metadata": {},
   "outputs": [],
   "source": [
    "def select_genre(row):\n",
    "    \"\"\"\n",
    "    inputs: \n",
    "        track(boolean):\n",
    "            True means it is from the track_genre_val column, \n",
    "            otherwise artist_mbtag/ artist_term\n",
    "        row: input row to be cleaned\n",
    "    return: a dominant genre/ tag for a track/ artist\n",
    "    \"\"\"\n",
    "#     if row != row: return row # check for nan rows\n",
    "#     if track:\n",
    "    key, value = list(row.keys()), list(row.values())\n",
    "    genre_lst = list()\n",
    "    itemMaxValue = max(value)\n",
    "    # Iterate over all the items in dictionary to find keys with max value\n",
    "    for i in range(len(value)):\n",
    "        if value[i] == itemMaxValue:\n",
    "            genre_lst.append(key[i])\n",
    "    rank = [int(genre['rank'][tag]) for tag in genre_lst]\n",
    "#     else:\n",
    "#         genre_lst = row\n",
    "#         rank = [int(artist_term['rank'][tag]) for tag in row]\n",
    "    max_rank = max(rank)\n",
    "    max_index = [idx for idx, val in enumerate(rank) if val == max_rank]\n",
    "    dominant_genre = [genre_lst[idx] for idx in max_index]\n",
    "    return dominant_genre"
   ]
  },
  {
   "cell_type": "code",
   "execution_count": 55,
   "metadata": {},
   "outputs": [],
   "source": [
    "genre = genre.set_index('genre')\n",
    "track = df_plot['track_genre_val'].dropna()\n",
    "dominant_track = track.apply(lambda x: select_genre(x))\n",
    "dominant_track.to_csv('dominant_trackgenre.csv')"
   ]
  },
  {
   "cell_type": "markdown",
   "metadata": {},
   "source": [
    "Read cleaned result and clean for plots and save results"
   ]
  },
  {
   "cell_type": "code",
   "execution_count": 56,
   "metadata": {},
   "outputs": [],
   "source": [
    "def clean_word(string):\n",
    "    if string != string:\n",
    "        return 'NA'\n",
    "    return string[2:-2]"
   ]
  },
  {
   "cell_type": "code",
   "execution_count": 57,
   "metadata": {},
   "outputs": [],
   "source": [
    "# read cleaned data\n",
    "# dominant_genre_dropna = pd.read_csv('dominan_genre.csv')\n",
    "dominant_track_genre = pd.read_csv('dominant_trackgenre.csv')\n",
    "# df_plot = df_plot.drop(['artist_term'], axis = 1)\n",
    "df_plot = df_plot.drop(['track_genre_val'], axis = 1)"
   ]
  },
  {
   "cell_type": "code",
   "execution_count": 91,
   "metadata": {},
   "outputs": [],
   "source": [
    "# df_plot = pd.concat(\n",
    "#     [df_plot, dominant_genre_dropna],\n",
    "#     axis = 1)"
   ]
  },
  {
   "cell_type": "code",
   "execution_count": 58,
   "metadata": {},
   "outputs": [],
   "source": [
    "df_plot = pd.concat(\n",
    "    [df_plot, dominant_track_genre],\n",
    "    axis = 1)\n",
    "df_plot = df_plot.drop('Unnamed: 0', axis = 1)"
   ]
  },
  {
   "cell_type": "code",
   "execution_count": 59,
   "metadata": {},
   "outputs": [],
   "source": [
    "df_final = df_plot"
   ]
  },
  {
   "cell_type": "code",
   "execution_count": 60,
   "metadata": {},
   "outputs": [],
   "source": [
    "# df_final['artist_term']=df_final['artist_term'].apply(lambda x: clean_word(x))\n",
    "df_final['track_genre_val'] = df_final['track_genre_val'].apply(lambda x: clean_word(x))"
   ]
  },
  {
   "cell_type": "code",
   "execution_count": 68,
   "metadata": {
    "scrolled": true
   },
   "outputs": [],
   "source": [
    "df_final = df_final[['track_genre_val','year','item_factor']]"
   ]
  },
  {
   "cell_type": "code",
   "execution_count": 69,
   "metadata": {},
   "outputs": [],
   "source": [
    "df_final = df_final[df_final['year'].notna()]"
   ]
  },
  {
   "cell_type": "code",
   "execution_count": 70,
   "metadata": {},
   "outputs": [
    {
     "data": {
      "text/html": [
       "<div>\n",
       "<style scoped>\n",
       "    .dataframe tbody tr th:only-of-type {\n",
       "        vertical-align: middle;\n",
       "    }\n",
       "\n",
       "    .dataframe tbody tr th {\n",
       "        vertical-align: top;\n",
       "    }\n",
       "\n",
       "    .dataframe thead th {\n",
       "        text-align: right;\n",
       "    }\n",
       "</style>\n",
       "<table border=\"1\" class=\"dataframe\">\n",
       "  <thead>\n",
       "    <tr style=\"text-align: right;\">\n",
       "      <th></th>\n",
       "      <th>track_genre_val</th>\n",
       "      <th>year</th>\n",
       "      <th>item_factor</th>\n",
       "    </tr>\n",
       "  </thead>\n",
       "  <tbody>\n",
       "    <tr>\n",
       "      <th>19</th>\n",
       "      <td>80s</td>\n",
       "      <td>1984.0</td>\n",
       "      <td>[0.         0.02217899 0.01456057 0.08075973 0...</td>\n",
       "    </tr>\n",
       "    <tr>\n",
       "      <th>20</th>\n",
       "      <td>80s</td>\n",
       "      <td>1984.0</td>\n",
       "      <td>[0.         0.02217899 0.01456057 0.08075973 0...</td>\n",
       "    </tr>\n",
       "    <tr>\n",
       "      <th>21</th>\n",
       "      <td>80s</td>\n",
       "      <td>1984.0</td>\n",
       "      <td>[0.         0.02217899 0.01456057 0.08075973 0...</td>\n",
       "    </tr>\n",
       "    <tr>\n",
       "      <th>22</th>\n",
       "      <td>80s</td>\n",
       "      <td>1984.0</td>\n",
       "      <td>[0.         0.02217899 0.01456057 0.08075973 0...</td>\n",
       "    </tr>\n",
       "    <tr>\n",
       "      <th>23</th>\n",
       "      <td>80s</td>\n",
       "      <td>1984.0</td>\n",
       "      <td>[0.         0.02217899 0.01456057 0.08075973 0...</td>\n",
       "    </tr>\n",
       "    <tr>\n",
       "      <th>...</th>\n",
       "      <td>...</td>\n",
       "      <td>...</td>\n",
       "      <td>...</td>\n",
       "    </tr>\n",
       "    <tr>\n",
       "      <th>84073</th>\n",
       "      <td>NA</td>\n",
       "      <td>2002.0</td>\n",
       "      <td>[0.         0.         0.         0.         0...</td>\n",
       "    </tr>\n",
       "    <tr>\n",
       "      <th>84074</th>\n",
       "      <td>NA</td>\n",
       "      <td>2002.0</td>\n",
       "      <td>[6.7974726e-04 0.0000000e+00 6.0554990e-03 0.0...</td>\n",
       "    </tr>\n",
       "    <tr>\n",
       "      <th>84075</th>\n",
       "      <td>NA</td>\n",
       "      <td>2004.0</td>\n",
       "      <td>[0.         0.         0.00658189 0.00013213 0...</td>\n",
       "    </tr>\n",
       "    <tr>\n",
       "      <th>84076</th>\n",
       "      <td>NA</td>\n",
       "      <td>2002.0</td>\n",
       "      <td>[0.         0.         0.         0.00122118 0...</td>\n",
       "    </tr>\n",
       "    <tr>\n",
       "      <th>84077</th>\n",
       "      <td>NA</td>\n",
       "      <td>2003.0</td>\n",
       "      <td>[0.00045911 0.         0.         0.00046286 0...</td>\n",
       "    </tr>\n",
       "  </tbody>\n",
       "</table>\n",
       "<p>69951 rows × 3 columns</p>\n",
       "</div>"
      ],
      "text/plain": [
       "      track_genre_val    year  \\\n",
       "19                80s  1984.0   \n",
       "20                80s  1984.0   \n",
       "21                80s  1984.0   \n",
       "22                80s  1984.0   \n",
       "23                80s  1984.0   \n",
       "...               ...     ...   \n",
       "84073              NA  2002.0   \n",
       "84074              NA  2002.0   \n",
       "84075              NA  2004.0   \n",
       "84076              NA  2002.0   \n",
       "84077              NA  2003.0   \n",
       "\n",
       "                                             item_factor  \n",
       "19     [0.         0.02217899 0.01456057 0.08075973 0...  \n",
       "20     [0.         0.02217899 0.01456057 0.08075973 0...  \n",
       "21     [0.         0.02217899 0.01456057 0.08075973 0...  \n",
       "22     [0.         0.02217899 0.01456057 0.08075973 0...  \n",
       "23     [0.         0.02217899 0.01456057 0.08075973 0...  \n",
       "...                                                  ...  \n",
       "84073  [0.         0.         0.         0.         0...  \n",
       "84074  [6.7974726e-04 0.0000000e+00 6.0554990e-03 0.0...  \n",
       "84075  [0.         0.         0.00658189 0.00013213 0...  \n",
       "84076  [0.         0.         0.         0.00122118 0...  \n",
       "84077  [0.00045911 0.         0.         0.00046286 0...  \n",
       "\n",
       "[69951 rows x 3 columns]"
      ]
     },
     "execution_count": 70,
     "metadata": {},
     "output_type": "execute_result"
    }
   ],
   "source": [
    "df_final"
   ]
  },
  {
   "cell_type": "code",
   "execution_count": 71,
   "metadata": {},
   "outputs": [],
   "source": [
    "df_final.to_csv('df_final.csv')"
   ]
  },
  {
   "cell_type": "markdown",
   "metadata": {},
   "source": [
    "### The rest goes to UMAP visualization"
   ]
  }
 ],
 "metadata": {
  "kernelspec": {
   "display_name": "Python 3",
   "language": "python",
   "name": "python3"
  },
  "language_info": {
   "codemirror_mode": {
    "name": "ipython",
    "version": 3
   },
   "file_extension": ".py",
   "mimetype": "text/x-python",
   "name": "python",
   "nbconvert_exporter": "python",
   "pygments_lexer": "ipython3",
   "version": "3.8.6"
  }
 },
 "nbformat": 4,
 "nbformat_minor": 4
}
